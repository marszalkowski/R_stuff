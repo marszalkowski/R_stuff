{
 "cells": [
  {
   "cell_type": "markdown",
   "metadata": {},
   "source": [
    "# R Programming: The basics of programming in R"
   ]
  },
  {
   "cell_type": "markdown",
   "metadata": {},
   "source": [
    "## Unit 1: Basic Building Blocks"
   ]
  },
  {
   "cell_type": "markdown",
   "metadata": {},
   "source": [
    "### Calculations and Variables"
   ]
  },
  {
   "cell_type": "code",
   "execution_count": 1,
   "metadata": {},
   "outputs": [
    {
     "data": {
      "text/html": [
       "12"
      ],
      "text/latex": [
       "12"
      ],
      "text/markdown": [
       "12"
      ],
      "text/plain": [
       "[1] 12"
      ]
     },
     "metadata": {},
     "output_type": "display_data"
    }
   ],
   "source": [
    "5 + 7"
   ]
  },
  {
   "cell_type": "code",
   "execution_count": 2,
   "metadata": {
    "collapsed": true
   },
   "outputs": [],
   "source": [
    "x <- 5 + 7"
   ]
  },
  {
   "cell_type": "code",
   "execution_count": 3,
   "metadata": {},
   "outputs": [
    {
     "data": {
      "text/html": [
       "12"
      ],
      "text/latex": [
       "12"
      ],
      "text/markdown": [
       "12"
      ],
      "text/plain": [
       "[1] 12"
      ]
     },
     "metadata": {},
     "output_type": "display_data"
    },
    {
     "data": {
      "text/html": [
       "9"
      ],
      "text/latex": [
       "9"
      ],
      "text/markdown": [
       "9"
      ],
      "text/plain": [
       "[1] 9"
      ]
     },
     "metadata": {},
     "output_type": "display_data"
    }
   ],
   "source": [
    "y <- x - 3\n",
    "x\n",
    "y"
   ]
  },
  {
   "cell_type": "markdown",
   "metadata": {},
   "source": [
    "### Creating Vectors"
   ]
  },
  {
   "cell_type": "markdown",
   "metadata": {},
   "source": [
    "#### Use c() function to 'concatenate' or 'combine'"
   ]
  },
  {
   "cell_type": "code",
   "execution_count": 5,
   "metadata": {},
   "outputs": [
    {
     "data": {
      "text/html": [
       "<ol class=list-inline>\n",
       "\t<li>1.1</li>\n",
       "\t<li>9</li>\n",
       "\t<li>3.14</li>\n",
       "</ol>\n"
      ],
      "text/latex": [
       "\\begin{enumerate*}\n",
       "\\item 1.1\n",
       "\\item 9\n",
       "\\item 3.14\n",
       "\\end{enumerate*}\n"
      ],
      "text/markdown": [
       "1. 1.1\n",
       "2. 9\n",
       "3. 3.14\n",
       "\n",
       "\n"
      ],
      "text/plain": [
       "[1] 1.10 9.00 3.14"
      ]
     },
     "metadata": {},
     "output_type": "display_data"
    }
   ],
   "source": [
    "z <- c(1.1, 9, 3.14)\n",
    "z"
   ]
  },
  {
   "cell_type": "markdown",
   "metadata": {},
   "source": [
    "#### use '? to ask for help, e.g. ?c to get more info on c() function"
   ]
  },
  {
   "cell_type": "markdown",
   "metadata": {},
   "source": [
    "#### combine vectors to create a new vector:"
   ]
  },
  {
   "cell_type": "code",
   "execution_count": 6,
   "metadata": {},
   "outputs": [
    {
     "data": {
      "text/html": [
       "<ol class=list-inline>\n",
       "\t<li>1.1</li>\n",
       "\t<li>9</li>\n",
       "\t<li>3.14</li>\n",
       "\t<li>555</li>\n",
       "\t<li>1.1</li>\n",
       "\t<li>9</li>\n",
       "\t<li>3.14</li>\n",
       "</ol>\n"
      ],
      "text/latex": [
       "\\begin{enumerate*}\n",
       "\\item 1.1\n",
       "\\item 9\n",
       "\\item 3.14\n",
       "\\item 555\n",
       "\\item 1.1\n",
       "\\item 9\n",
       "\\item 3.14\n",
       "\\end{enumerate*}\n"
      ],
      "text/markdown": [
       "1. 1.1\n",
       "2. 9\n",
       "3. 3.14\n",
       "4. 555\n",
       "5. 1.1\n",
       "6. 9\n",
       "7. 3.14\n",
       "\n",
       "\n"
      ],
      "text/plain": [
       "[1]   1.10   9.00   3.14 555.00   1.10   9.00   3.14"
      ]
     },
     "metadata": {},
     "output_type": "display_data"
    }
   ],
   "source": [
    "c(z, 555, z)"
   ]
  },
  {
   "cell_type": "markdown",
   "metadata": {},
   "source": [
    "#### numeric vectors can be used in arithmetic expressions"
   ]
  },
  {
   "cell_type": "code",
   "execution_count": 7,
   "metadata": {},
   "outputs": [
    {
     "data": {
      "text/html": [
       "<ol class=list-inline>\n",
       "\t<li>102.2</li>\n",
       "\t<li>118</li>\n",
       "\t<li>106.28</li>\n",
       "</ol>\n"
      ],
      "text/latex": [
       "\\begin{enumerate*}\n",
       "\\item 102.2\n",
       "\\item 118\n",
       "\\item 106.28\n",
       "\\end{enumerate*}\n"
      ],
      "text/markdown": [
       "1. 102.2\n",
       "2. 118\n",
       "3. 106.28\n",
       "\n",
       "\n"
      ],
      "text/plain": [
       "[1] 102.20 118.00 106.28"
      ]
     },
     "metadata": {},
     "output_type": "display_data"
    }
   ],
   "source": [
    "z * 2 + 100 #multiply each element in z by two then adds 100 to each element"
   ]
  },
  {
   "cell_type": "code",
   "execution_count": 9,
   "metadata": {},
   "outputs": [
    {
     "data": {
      "text/html": [
       "<ol class=list-inline>\n",
       "\t<li>0.316227766016838</li>\n",
       "\t<li>2.82842712474619</li>\n",
       "\t<li>1.46287388383278</li>\n",
       "</ol>\n"
      ],
      "text/latex": [
       "\\begin{enumerate*}\n",
       "\\item 0.316227766016838\n",
       "\\item 2.82842712474619\n",
       "\\item 1.46287388383278\n",
       "\\end{enumerate*}\n"
      ],
      "text/markdown": [
       "1. 0.316227766016838\n",
       "2. 2.82842712474619\n",
       "3. 1.46287388383278\n",
       "\n",
       "\n"
      ],
      "text/plain": [
       "[1] 0.3162278 2.8284271 1.4628739"
      ]
     },
     "metadata": {},
     "output_type": "display_data"
    }
   ],
   "source": [
    "my_sqrt <- sqrt(z-1) #subtracts 1 from each element in z\n",
    "#then takes sqrt of each element\n",
    "my_sqrt"
   ]
  },
  {
   "cell_type": "code",
   "execution_count": 10,
   "metadata": {},
   "outputs": [
    {
     "data": {
      "text/html": [
       "<ol class=list-inline>\n",
       "\t<li>3.47850542618522</li>\n",
       "\t<li>3.18198051533946</li>\n",
       "\t<li>2.14645981085744</li>\n",
       "</ol>\n"
      ],
      "text/latex": [
       "\\begin{enumerate*}\n",
       "\\item 3.47850542618522\n",
       "\\item 3.18198051533946\n",
       "\\item 2.14645981085744\n",
       "\\end{enumerate*}\n"
      ],
      "text/markdown": [
       "1. 3.47850542618522\n",
       "2. 3.18198051533946\n",
       "3. 2.14645981085744\n",
       "\n",
       "\n"
      ],
      "text/plain": [
       "[1] 3.478505 3.181981 2.146460"
      ]
     },
     "metadata": {},
     "output_type": "display_data"
    }
   ],
   "source": [
    "my_div <- z/my_sqrt #first element of my_div is first element of z divided by first of my_sqrt\n",
    "my_div"
   ]
  },
  {
   "cell_type": "markdown",
   "metadata": {},
   "source": [
    "if vectors are different lenghts, R 'recycles' the shorter vector until it is the same length"
   ]
  },
  {
   "cell_type": "markdown",
   "metadata": {},
   "source": [
    "In other words when you as R to compute z * 2 +100 what it really computes is z * #c(2, 2, 2) + c(100, 100, 100)"
   ]
  },
  {
   "cell_type": "markdown",
   "metadata": {},
   "source": [
    "## Unit 2: Worspace and Files"
   ]
  },
  {
   "cell_type": "markdown",
   "metadata": {},
   "source": [
    "### Looking at your workspace"
   ]
  },
  {
   "cell_type": "code",
   "execution_count": 11,
   "metadata": {},
   "outputs": [
    {
     "data": {
      "text/html": [
       "'/Users/MariaSzalkowski/Desktop/R_Project/Juypter_Notebook'"
      ],
      "text/latex": [
       "'/Users/MariaSzalkowski/Desktop/R\\_Project/Juypter\\_Notebook'"
      ],
      "text/markdown": [
       "'/Users/MariaSzalkowski/Desktop/R_Project/Juypter_Notebook'"
      ],
      "text/plain": [
       "[1] \"/Users/MariaSzalkowski/Desktop/R_Project/Juypter_Notebook\""
      ]
     },
     "metadata": {},
     "output_type": "display_data"
    }
   ],
   "source": [
    "getwd() #shows you what your working directory is"
   ]
  },
  {
   "cell_type": "code",
   "execution_count": 12,
   "metadata": {},
   "outputs": [
    {
     "data": {
      "text/html": [
       "<ol class=list-inline>\n",
       "\t<li>'my_div'</li>\n",
       "\t<li>'my_sqrt'</li>\n",
       "\t<li>'x'</li>\n",
       "\t<li>'y'</li>\n",
       "\t<li>'z'</li>\n",
       "</ol>\n"
      ],
      "text/latex": [
       "\\begin{enumerate*}\n",
       "\\item 'my\\_div'\n",
       "\\item 'my\\_sqrt'\n",
       "\\item 'x'\n",
       "\\item 'y'\n",
       "\\item 'z'\n",
       "\\end{enumerate*}\n"
      ],
      "text/markdown": [
       "1. 'my_div'\n",
       "2. 'my_sqrt'\n",
       "3. 'x'\n",
       "4. 'y'\n",
       "5. 'z'\n",
       "\n",
       "\n"
      ],
      "text/plain": [
       "[1] \"my_div\"  \"my_sqrt\" \"x\"       \"y\"       \"z\"      "
      ]
     },
     "metadata": {},
     "output_type": "display_data"
    }
   ],
   "source": [
    "ls() #lists all the objects in your local workspace (all variables)"
   ]
  },
  {
   "cell_type": "code",
   "execution_count": 14,
   "metadata": {},
   "outputs": [
    {
     "data": {
      "text/html": [
       "<ol class=list-inline>\n",
       "\t<li>'First Notebook.ipynb'</li>\n",
       "\t<li>'Swirl Notes.ipynb'</li>\n",
       "</ol>\n"
      ],
      "text/latex": [
       "\\begin{enumerate*}\n",
       "\\item 'First Notebook.ipynb'\n",
       "\\item 'Swirl Notes.ipynb'\n",
       "\\end{enumerate*}\n"
      ],
      "text/markdown": [
       "1. 'First Notebook.ipynb'\n",
       "2. 'Swirl Notes.ipynb'\n",
       "\n",
       "\n"
      ],
      "text/plain": [
       "[1] \"First Notebook.ipynb\" \"Swirl Notes.ipynb\"   "
      ]
     },
     "metadata": {},
     "output_type": "display_data"
    }
   ],
   "source": [
    "list.files() #lists files in working directory"
   ]
  },
  {
   "cell_type": "code",
   "execution_count": 15,
   "metadata": {},
   "outputs": [
    {
     "data": {
      "text/html": [
       "<ol class=list-inline>\n",
       "\t<li>'First Notebook.ipynb'</li>\n",
       "\t<li>'Swirl Notes.ipynb'</li>\n",
       "</ol>\n"
      ],
      "text/latex": [
       "\\begin{enumerate*}\n",
       "\\item 'First Notebook.ipynb'\n",
       "\\item 'Swirl Notes.ipynb'\n",
       "\\end{enumerate*}\n"
      ],
      "text/markdown": [
       "1. 'First Notebook.ipynb'\n",
       "2. 'Swirl Notes.ipynb'\n",
       "\n",
       "\n"
      ],
      "text/plain": [
       "[1] \"First Notebook.ipynb\" \"Swirl Notes.ipynb\"   "
      ]
     },
     "metadata": {},
     "output_type": "display_data"
    }
   ],
   "source": [
    "dir() #lists files in working directory"
   ]
  },
  {
   "cell_type": "code",
   "execution_count": 16,
   "metadata": {},
   "outputs": [
    {
     "data": {
      "text/html": [
       "<pre class=language-r><code>function (path = \".\", pattern = NULL, all.files = FALSE, full.names = FALSE, \n",
       "<span style=white-space:pre-wrap>    recursive = FALSE, ignore.case = FALSE, include.dirs = FALSE, </span>\n",
       "<span style=white-space:pre-wrap>    no.. = FALSE) </span>\n",
       "NULL</code></pre>"
      ],
      "text/latex": [
       "\\begin{minted}{r}\n",
       "function (path = \".\", pattern = NULL, all.files = FALSE, full.names = FALSE, \n",
       "    recursive = FALSE, ignore.case = FALSE, include.dirs = FALSE, \n",
       "    no.. = FALSE) \n",
       "NULL\n",
       "\\end{minted}"
      ],
      "text/markdown": [
       "```r\n",
       "function (path = \".\", pattern = NULL, all.files = FALSE, full.names = FALSE, \n",
       "    recursive = FALSE, ignore.case = FALSE, include.dirs = FALSE, \n",
       "    no.. = FALSE) \n",
       "NULL\n",
       "```"
      ],
      "text/plain": [
       "function (path = \".\", pattern = NULL, all.files = FALSE, full.names = FALSE, \n",
       "    recursive = FALSE, ignore.case = FALSE, include.dirs = FALSE, \n",
       "    no.. = FALSE) \n",
       "NULL"
      ]
     },
     "metadata": {},
     "output_type": "display_data"
    }
   ],
   "source": [
    "args(list.files) #tells the arguments of the function"
   ]
  },
  {
   "cell_type": "code",
   "execution_count": 17,
   "metadata": {
    "collapsed": true
   },
   "outputs": [],
   "source": [
    "old.dir <- getwd() #assigns value of current wd to a variable"
   ]
  },
  {
   "cell_type": "markdown",
   "metadata": {},
   "source": [
    "### Creating Directories"
   ]
  },
  {
   "cell_type": "markdown",
   "metadata": {},
   "source": [
    "Use dir.create to create a directory in the working directory called testdir"
   ]
  },
  {
   "cell_type": "code",
   "execution_count": 20,
   "metadata": {},
   "outputs": [
    {
     "data": {
      "text/html": [
       "'testdir'"
      ],
      "text/latex": [
       "'testdir'"
      ],
      "text/markdown": [
       "'testdir'"
      ],
      "text/plain": [
       "[1] \"testdir\""
      ]
     },
     "metadata": {},
     "output_type": "display_data"
    }
   ],
   "source": [
    "dir.create(\"testdir\")\n",
    "dir()"
   ]
  },
  {
   "cell_type": "markdown",
   "metadata": {},
   "source": [
    "### Set working directory"
   ]
  },
  {
   "cell_type": "code",
   "execution_count": 19,
   "metadata": {
    "collapsed": true
   },
   "outputs": [],
   "source": [
    "setwd(\"testdir\") "
   ]
  },
  {
   "cell_type": "markdown",
   "metadata": {},
   "source": [
    "### Create a file in working directory"
   ]
  },
  {
   "cell_type": "code",
   "execution_count": 21,
   "metadata": {},
   "outputs": [
    {
     "data": {
      "text/html": [
       "TRUE"
      ],
      "text/latex": [
       "TRUE"
      ],
      "text/markdown": [
       "TRUE"
      ],
      "text/plain": [
       "[1] TRUE"
      ]
     },
     "metadata": {},
     "output_type": "display_data"
    },
    {
     "data": {
      "text/html": [
       "<ol class=list-inline>\n",
       "\t<li>'mytest.R'</li>\n",
       "\t<li>'testdir'</li>\n",
       "</ol>\n"
      ],
      "text/latex": [
       "\\begin{enumerate*}\n",
       "\\item 'mytest.R'\n",
       "\\item 'testdir'\n",
       "\\end{enumerate*}\n"
      ],
      "text/markdown": [
       "1. 'mytest.R'\n",
       "2. 'testdir'\n",
       "\n",
       "\n"
      ],
      "text/plain": [
       "[1] \"mytest.R\" \"testdir\" "
      ]
     },
     "metadata": {},
     "output_type": "display_data"
    }
   ],
   "source": [
    "file.create(\"mytest.R\")\n",
    "dir()"
   ]
  },
  {
   "cell_type": "code",
   "execution_count": 22,
   "metadata": {},
   "outputs": [
    {
     "data": {
      "text/html": [
       "TRUE"
      ],
      "text/latex": [
       "TRUE"
      ],
      "text/markdown": [
       "TRUE"
      ],
      "text/plain": [
       "[1] TRUE"
      ]
     },
     "metadata": {},
     "output_type": "display_data"
    }
   ],
   "source": [
    "file.exists(\"mytest.R\") #Check to see if file exists in working directory "
   ]
  },
  {
   "cell_type": "code",
   "execution_count": 23,
   "metadata": {},
   "outputs": [
    {
     "data": {
      "text/html": [
       "<table>\n",
       "<thead><tr><th></th><th scope=col>size</th><th scope=col>isdir</th><th scope=col>mode</th><th scope=col>mtime</th><th scope=col>ctime</th><th scope=col>atime</th><th scope=col>uid</th><th scope=col>gid</th><th scope=col>uname</th><th scope=col>grname</th></tr></thead>\n",
       "<tbody>\n",
       "\t<tr><th scope=row>mytest.R</th><td>0                  </td><td>FALSE              </td><td>644                </td><td>2018-10-08 17:02:27</td><td>2018-10-08 17:02:27</td><td>2018-10-08 17:02:27</td><td>501                </td><td>20                 </td><td>MariaSzalkowski    </td><td>staff              </td></tr>\n",
       "</tbody>\n",
       "</table>\n"
      ],
      "text/latex": [
       "\\begin{tabular}{r|llllllllll}\n",
       "  & size & isdir & mode & mtime & ctime & atime & uid & gid & uname & grname\\\\\n",
       "\\hline\n",
       "\tmytest.R & 0                   & FALSE               & 644                 & 2018-10-08 17:02:27 & 2018-10-08 17:02:27 & 2018-10-08 17:02:27 & 501                 & 20                  & MariaSzalkowski     & staff              \\\\\n",
       "\\end{tabular}\n"
      ],
      "text/markdown": [
       "\n",
       "| <!--/--> | size | isdir | mode | mtime | ctime | atime | uid | gid | uname | grname | \n",
       "|---|\n",
       "| mytest.R | 0                   | FALSE               | 644                 | 2018-10-08 17:02:27 | 2018-10-08 17:02:27 | 2018-10-08 17:02:27 | 501                 | 20                  | MariaSzalkowski     | staff               | \n",
       "\n",
       "\n"
      ],
      "text/plain": [
       "         size isdir mode mtime               ctime              \n",
       "mytest.R 0    FALSE 644  2018-10-08 17:02:27 2018-10-08 17:02:27\n",
       "         atime               uid gid uname           grname\n",
       "mytest.R 2018-10-08 17:02:27 501 20  MariaSzalkowski staff "
      ]
     },
     "metadata": {},
     "output_type": "display_data"
    }
   ],
   "source": [
    "file.info(\"mytest.R\") #access info about file"
   ]
  },
  {
   "cell_type": "code",
   "execution_count": 24,
   "metadata": {},
   "outputs": [
    {
     "data": {
      "text/html": [
       "TRUE"
      ],
      "text/latex": [
       "TRUE"
      ],
      "text/markdown": [
       "TRUE"
      ],
      "text/plain": [
       "[1] TRUE"
      ]
     },
     "metadata": {},
     "output_type": "display_data"
    }
   ],
   "source": [
    "file.rename(\"mytest.R\", \"mytest2.R\") #rename a file (from, to)"
   ]
  },
  {
   "cell_type": "code",
   "execution_count": 26,
   "metadata": {},
   "outputs": [
    {
     "data": {
      "text/html": [
       "TRUE"
      ],
      "text/latex": [
       "TRUE"
      ],
      "text/markdown": [
       "TRUE"
      ],
      "text/plain": [
       "[1] TRUE"
      ]
     },
     "metadata": {},
     "output_type": "display_data"
    }
   ],
   "source": [
    "file.copy(\"mytest2.R\", \"mytest3.R\") #makes copy of file"
   ]
  },
  {
   "cell_type": "code",
   "execution_count": 27,
   "metadata": {},
   "outputs": [
    {
     "data": {
      "text/html": [
       "'mytest2.R'"
      ],
      "text/latex": [
       "'mytest2.R'"
      ],
      "text/markdown": [
       "'mytest2.R'"
      ],
      "text/plain": [
       "[1] \"mytest2.R\""
      ]
     },
     "metadata": {},
     "output_type": "display_data"
    }
   ],
   "source": [
    "file.path(\"mytest2.R\") #provides relative path"
   ]
  },
  {
   "cell_type": "code",
   "execution_count": 28,
   "metadata": {},
   "outputs": [
    {
     "data": {
      "text/html": [
       "'folder1/folder2'"
      ],
      "text/latex": [
       "'folder1/folder2'"
      ],
      "text/markdown": [
       "'folder1/folder2'"
      ],
      "text/plain": [
       "[1] \"folder1/folder2\""
      ]
     },
     "metadata": {},
     "output_type": "display_data"
    }
   ],
   "source": [
    "file.path('folder1','folder2') #use file.path to make a file and directoy paths independent of operating system"
   ]
  },
  {
   "cell_type": "code",
   "execution_count": 31,
   "metadata": {},
   "outputs": [
    {
     "name": "stderr",
     "output_type": "stream",
     "text": [
      "Warning message in dir.create(file.path(\"testdir2\", \"testdir3\"), recursive = TRUE):\n",
      "“'testdir2/testdir3' already exists”"
     ]
    }
   ],
   "source": [
    "dir.create(file.path('testdir2', 'testdir3'), recursive = TRUE)\n",
    "#creates directory and subdirectory in one command"
   ]
  },
  {
   "cell_type": "code",
   "execution_count": 33,
   "metadata": {
    "collapsed": true
   },
   "outputs": [],
   "source": [
    "setwd(old.dir)"
   ]
  },
  {
   "cell_type": "markdown",
   "metadata": {},
   "source": [
    "## Unit 3: Sequences of Numbers"
   ]
  },
  {
   "cell_type": "markdown",
   "metadata": {},
   "source": [
    "### Creating sequences using `:` operator"
   ]
  },
  {
   "cell_type": "code",
   "execution_count": 34,
   "metadata": {},
   "outputs": [
    {
     "data": {
      "text/html": [
       "<ol class=list-inline>\n",
       "\t<li>1</li>\n",
       "\t<li>2</li>\n",
       "\t<li>3</li>\n",
       "\t<li>4</li>\n",
       "\t<li>5</li>\n",
       "\t<li>6</li>\n",
       "\t<li>7</li>\n",
       "\t<li>8</li>\n",
       "\t<li>9</li>\n",
       "\t<li>10</li>\n",
       "\t<li>11</li>\n",
       "\t<li>12</li>\n",
       "\t<li>13</li>\n",
       "\t<li>14</li>\n",
       "\t<li>15</li>\n",
       "\t<li>16</li>\n",
       "\t<li>17</li>\n",
       "\t<li>18</li>\n",
       "\t<li>19</li>\n",
       "\t<li>20</li>\n",
       "</ol>\n"
      ],
      "text/latex": [
       "\\begin{enumerate*}\n",
       "\\item 1\n",
       "\\item 2\n",
       "\\item 3\n",
       "\\item 4\n",
       "\\item 5\n",
       "\\item 6\n",
       "\\item 7\n",
       "\\item 8\n",
       "\\item 9\n",
       "\\item 10\n",
       "\\item 11\n",
       "\\item 12\n",
       "\\item 13\n",
       "\\item 14\n",
       "\\item 15\n",
       "\\item 16\n",
       "\\item 17\n",
       "\\item 18\n",
       "\\item 19\n",
       "\\item 20\n",
       "\\end{enumerate*}\n"
      ],
      "text/markdown": [
       "1. 1\n",
       "2. 2\n",
       "3. 3\n",
       "4. 4\n",
       "5. 5\n",
       "6. 6\n",
       "7. 7\n",
       "8. 8\n",
       "9. 9\n",
       "10. 10\n",
       "11. 11\n",
       "12. 12\n",
       "13. 13\n",
       "14. 14\n",
       "15. 15\n",
       "16. 16\n",
       "17. 17\n",
       "18. 18\n",
       "19. 19\n",
       "20. 20\n",
       "\n",
       "\n"
      ],
      "text/plain": [
       " [1]  1  2  3  4  5  6  7  8  9 10 11 12 13 14 15 16 17 18 19 20"
      ]
     },
     "metadata": {},
     "output_type": "display_data"
    }
   ],
   "source": [
    "1:20 #counts forward to 20 by 1"
   ]
  },
  {
   "cell_type": "code",
   "execution_count": 35,
   "metadata": {},
   "outputs": [
    {
     "data": {
      "text/html": [
       "<ol class=list-inline>\n",
       "\t<li>3.14159265358979</li>\n",
       "\t<li>4.14159265358979</li>\n",
       "\t<li>5.14159265358979</li>\n",
       "\t<li>6.14159265358979</li>\n",
       "\t<li>7.14159265358979</li>\n",
       "\t<li>8.14159265358979</li>\n",
       "\t<li>9.14159265358979</li>\n",
       "</ol>\n"
      ],
      "text/latex": [
       "\\begin{enumerate*}\n",
       "\\item 3.14159265358979\n",
       "\\item 4.14159265358979\n",
       "\\item 5.14159265358979\n",
       "\\item 6.14159265358979\n",
       "\\item 7.14159265358979\n",
       "\\item 8.14159265358979\n",
       "\\item 9.14159265358979\n",
       "\\end{enumerate*}\n"
      ],
      "text/markdown": [
       "1. 3.14159265358979\n",
       "2. 4.14159265358979\n",
       "3. 5.14159265358979\n",
       "4. 6.14159265358979\n",
       "5. 7.14159265358979\n",
       "6. 8.14159265358979\n",
       "7. 9.14159265358979\n",
       "\n",
       "\n"
      ],
      "text/plain": [
       "[1] 3.141593 4.141593 5.141593 6.141593 7.141593 8.141593 9.141593"
      ]
     },
     "metadata": {},
     "output_type": "display_data"
    }
   ],
   "source": [
    "pi:10 # counts by ones from pi to 10"
   ]
  },
  {
   "cell_type": "code",
   "execution_count": 36,
   "metadata": {},
   "outputs": [
    {
     "data": {
      "text/html": [
       "<ol class=list-inline>\n",
       "\t<li>15</li>\n",
       "\t<li>14</li>\n",
       "\t<li>13</li>\n",
       "\t<li>12</li>\n",
       "\t<li>11</li>\n",
       "\t<li>10</li>\n",
       "\t<li>9</li>\n",
       "\t<li>8</li>\n",
       "\t<li>7</li>\n",
       "\t<li>6</li>\n",
       "\t<li>5</li>\n",
       "\t<li>4</li>\n",
       "\t<li>3</li>\n",
       "\t<li>2</li>\n",
       "\t<li>1</li>\n",
       "</ol>\n"
      ],
      "text/latex": [
       "\\begin{enumerate*}\n",
       "\\item 15\n",
       "\\item 14\n",
       "\\item 13\n",
       "\\item 12\n",
       "\\item 11\n",
       "\\item 10\n",
       "\\item 9\n",
       "\\item 8\n",
       "\\item 7\n",
       "\\item 6\n",
       "\\item 5\n",
       "\\item 4\n",
       "\\item 3\n",
       "\\item 2\n",
       "\\item 1\n",
       "\\end{enumerate*}\n"
      ],
      "text/markdown": [
       "1. 15\n",
       "2. 14\n",
       "3. 13\n",
       "4. 12\n",
       "5. 11\n",
       "6. 10\n",
       "7. 9\n",
       "8. 8\n",
       "9. 7\n",
       "10. 6\n",
       "11. 5\n",
       "12. 4\n",
       "13. 3\n",
       "14. 2\n",
       "15. 1\n",
       "\n",
       "\n"
      ],
      "text/plain": [
       " [1] 15 14 13 12 11 10  9  8  7  6  5  4  3  2  1"
      ]
     },
     "metadata": {},
     "output_type": "display_data"
    }
   ],
   "source": [
    "15:1 #counts down from 15 to 1"
   ]
  },
  {
   "cell_type": "code",
   "execution_count": 37,
   "metadata": {
    "collapsed": true
   },
   "outputs": [],
   "source": [
    "?`:` #seach for how to use colon"
   ]
  },
  {
   "cell_type": "markdown",
   "metadata": {},
   "source": [
    "### Creating sequences using seq()"
   ]
  },
  {
   "cell_type": "code",
   "execution_count": 38,
   "metadata": {},
   "outputs": [
    {
     "data": {
      "text/html": [
       "<ol class=list-inline>\n",
       "\t<li>1</li>\n",
       "\t<li>2</li>\n",
       "\t<li>3</li>\n",
       "\t<li>4</li>\n",
       "\t<li>5</li>\n",
       "\t<li>6</li>\n",
       "\t<li>7</li>\n",
       "\t<li>8</li>\n",
       "\t<li>9</li>\n",
       "\t<li>10</li>\n",
       "\t<li>11</li>\n",
       "\t<li>12</li>\n",
       "\t<li>13</li>\n",
       "\t<li>14</li>\n",
       "\t<li>15</li>\n",
       "\t<li>16</li>\n",
       "\t<li>17</li>\n",
       "\t<li>18</li>\n",
       "\t<li>19</li>\n",
       "\t<li>20</li>\n",
       "</ol>\n"
      ],
      "text/latex": [
       "\\begin{enumerate*}\n",
       "\\item 1\n",
       "\\item 2\n",
       "\\item 3\n",
       "\\item 4\n",
       "\\item 5\n",
       "\\item 6\n",
       "\\item 7\n",
       "\\item 8\n",
       "\\item 9\n",
       "\\item 10\n",
       "\\item 11\n",
       "\\item 12\n",
       "\\item 13\n",
       "\\item 14\n",
       "\\item 15\n",
       "\\item 16\n",
       "\\item 17\n",
       "\\item 18\n",
       "\\item 19\n",
       "\\item 20\n",
       "\\end{enumerate*}\n"
      ],
      "text/markdown": [
       "1. 1\n",
       "2. 2\n",
       "3. 3\n",
       "4. 4\n",
       "5. 5\n",
       "6. 6\n",
       "7. 7\n",
       "8. 8\n",
       "9. 9\n",
       "10. 10\n",
       "11. 11\n",
       "12. 12\n",
       "13. 13\n",
       "14. 14\n",
       "15. 15\n",
       "16. 16\n",
       "17. 17\n",
       "18. 18\n",
       "19. 19\n",
       "20. 20\n",
       "\n",
       "\n"
      ],
      "text/plain": [
       " [1]  1  2  3  4  5  6  7  8  9 10 11 12 13 14 15 16 17 18 19 20"
      ]
     },
     "metadata": {},
     "output_type": "display_data"
    }
   ],
   "source": [
    "seq(1,20) #counts forward to 20"
   ]
  },
  {
   "cell_type": "code",
   "execution_count": 39,
   "metadata": {},
   "outputs": [
    {
     "data": {
      "text/html": [
       "<ol class=list-inline>\n",
       "\t<li>0</li>\n",
       "\t<li>0.5</li>\n",
       "\t<li>1</li>\n",
       "\t<li>1.5</li>\n",
       "\t<li>2</li>\n",
       "\t<li>2.5</li>\n",
       "\t<li>3</li>\n",
       "\t<li>3.5</li>\n",
       "\t<li>4</li>\n",
       "\t<li>4.5</li>\n",
       "\t<li>5</li>\n",
       "\t<li>5.5</li>\n",
       "\t<li>6</li>\n",
       "\t<li>6.5</li>\n",
       "\t<li>7</li>\n",
       "\t<li>7.5</li>\n",
       "\t<li>8</li>\n",
       "\t<li>8.5</li>\n",
       "\t<li>9</li>\n",
       "\t<li>9.5</li>\n",
       "\t<li>10</li>\n",
       "</ol>\n"
      ],
      "text/latex": [
       "\\begin{enumerate*}\n",
       "\\item 0\n",
       "\\item 0.5\n",
       "\\item 1\n",
       "\\item 1.5\n",
       "\\item 2\n",
       "\\item 2.5\n",
       "\\item 3\n",
       "\\item 3.5\n",
       "\\item 4\n",
       "\\item 4.5\n",
       "\\item 5\n",
       "\\item 5.5\n",
       "\\item 6\n",
       "\\item 6.5\n",
       "\\item 7\n",
       "\\item 7.5\n",
       "\\item 8\n",
       "\\item 8.5\n",
       "\\item 9\n",
       "\\item 9.5\n",
       "\\item 10\n",
       "\\end{enumerate*}\n"
      ],
      "text/markdown": [
       "1. 0\n",
       "2. 0.5\n",
       "3. 1\n",
       "4. 1.5\n",
       "5. 2\n",
       "6. 2.5\n",
       "7. 3\n",
       "8. 3.5\n",
       "9. 4\n",
       "10. 4.5\n",
       "11. 5\n",
       "12. 5.5\n",
       "13. 6\n",
       "14. 6.5\n",
       "15. 7\n",
       "16. 7.5\n",
       "17. 8\n",
       "18. 8.5\n",
       "19. 9\n",
       "20. 9.5\n",
       "21. 10\n",
       "\n",
       "\n"
      ],
      "text/plain": [
       " [1]  0.0  0.5  1.0  1.5  2.0  2.5  3.0  3.5  4.0  4.5  5.0  5.5  6.0  6.5  7.0\n",
       "[16]  7.5  8.0  8.5  9.0  9.5 10.0"
      ]
     },
     "metadata": {},
     "output_type": "display_data"
    }
   ],
   "source": [
    "seq(0, 10, by = 0.5) #creates sequence from 0 to 10 by .5"
   ]
  },
  {
   "cell_type": "code",
   "execution_count": 40,
   "metadata": {},
   "outputs": [
    {
     "data": {
      "text/html": [
       "<ol class=list-inline>\n",
       "\t<li>5</li>\n",
       "\t<li>5.17241379310345</li>\n",
       "\t<li>5.3448275862069</li>\n",
       "\t<li>5.51724137931035</li>\n",
       "\t<li>5.68965517241379</li>\n",
       "\t<li>5.86206896551724</li>\n",
       "\t<li>6.03448275862069</li>\n",
       "\t<li>6.20689655172414</li>\n",
       "\t<li>6.37931034482759</li>\n",
       "\t<li>6.55172413793103</li>\n",
       "\t<li>6.72413793103448</li>\n",
       "\t<li>6.89655172413793</li>\n",
       "\t<li>7.06896551724138</li>\n",
       "\t<li>7.24137931034483</li>\n",
       "\t<li>7.41379310344828</li>\n",
       "\t<li>7.58620689655172</li>\n",
       "\t<li>7.75862068965517</li>\n",
       "\t<li>7.93103448275862</li>\n",
       "\t<li>8.10344827586207</li>\n",
       "\t<li>8.27586206896552</li>\n",
       "\t<li>8.44827586206897</li>\n",
       "\t<li>8.62068965517241</li>\n",
       "\t<li>8.79310344827586</li>\n",
       "\t<li>8.96551724137931</li>\n",
       "\t<li>9.13793103448276</li>\n",
       "\t<li>9.31034482758621</li>\n",
       "\t<li>9.48275862068965</li>\n",
       "\t<li>9.6551724137931</li>\n",
       "\t<li>9.82758620689655</li>\n",
       "\t<li>10</li>\n",
       "</ol>\n"
      ],
      "text/latex": [
       "\\begin{enumerate*}\n",
       "\\item 5\n",
       "\\item 5.17241379310345\n",
       "\\item 5.3448275862069\n",
       "\\item 5.51724137931035\n",
       "\\item 5.68965517241379\n",
       "\\item 5.86206896551724\n",
       "\\item 6.03448275862069\n",
       "\\item 6.20689655172414\n",
       "\\item 6.37931034482759\n",
       "\\item 6.55172413793103\n",
       "\\item 6.72413793103448\n",
       "\\item 6.89655172413793\n",
       "\\item 7.06896551724138\n",
       "\\item 7.24137931034483\n",
       "\\item 7.41379310344828\n",
       "\\item 7.58620689655172\n",
       "\\item 7.75862068965517\n",
       "\\item 7.93103448275862\n",
       "\\item 8.10344827586207\n",
       "\\item 8.27586206896552\n",
       "\\item 8.44827586206897\n",
       "\\item 8.62068965517241\n",
       "\\item 8.79310344827586\n",
       "\\item 8.96551724137931\n",
       "\\item 9.13793103448276\n",
       "\\item 9.31034482758621\n",
       "\\item 9.48275862068965\n",
       "\\item 9.6551724137931\n",
       "\\item 9.82758620689655\n",
       "\\item 10\n",
       "\\end{enumerate*}\n"
      ],
      "text/markdown": [
       "1. 5\n",
       "2. 5.17241379310345\n",
       "3. 5.3448275862069\n",
       "4. 5.51724137931035\n",
       "5. 5.68965517241379\n",
       "6. 5.86206896551724\n",
       "7. 6.03448275862069\n",
       "8. 6.20689655172414\n",
       "9. 6.37931034482759\n",
       "10. 6.55172413793103\n",
       "11. 6.72413793103448\n",
       "12. 6.89655172413793\n",
       "13. 7.06896551724138\n",
       "14. 7.24137931034483\n",
       "15. 7.41379310344828\n",
       "16. 7.58620689655172\n",
       "17. 7.75862068965517\n",
       "18. 7.93103448275862\n",
       "19. 8.10344827586207\n",
       "20. 8.27586206896552\n",
       "21. 8.44827586206897\n",
       "22. 8.62068965517241\n",
       "23. 8.79310344827586\n",
       "24. 8.96551724137931\n",
       "25. 9.13793103448276\n",
       "26. 9.31034482758621\n",
       "27. 9.48275862068965\n",
       "28. 9.6551724137931\n",
       "29. 9.82758620689655\n",
       "30. 10\n",
       "\n",
       "\n"
      ],
      "text/plain": [
       " [1]  5.000000  5.172414  5.344828  5.517241  5.689655  5.862069  6.034483\n",
       " [8]  6.206897  6.379310  6.551724  6.724138  6.896552  7.068966  7.241379\n",
       "[15]  7.413793  7.586207  7.758621  7.931034  8.103448  8.275862  8.448276\n",
       "[22]  8.620690  8.793103  8.965517  9.137931  9.310345  9.482759  9.655172\n",
       "[29]  9.827586 10.000000"
      ]
     },
     "metadata": {},
     "output_type": "display_data"
    }
   ],
   "source": [
    "my_seq <- seq(5, 10, length = 30) #sequence of 30 numbers between 5 and 10\n",
    "my_seq"
   ]
  },
  {
   "cell_type": "code",
   "execution_count": 41,
   "metadata": {},
   "outputs": [
    {
     "data": {
      "text/html": [
       "30"
      ],
      "text/latex": [
       "30"
      ],
      "text/markdown": [
       "30"
      ],
      "text/plain": [
       "[1] 30"
      ]
     },
     "metadata": {},
     "output_type": "display_data"
    }
   ],
   "source": [
    "length(my_seq) #tells how long my_seq is"
   ]
  },
  {
   "cell_type": "code",
   "execution_count": 43,
   "metadata": {},
   "outputs": [
    {
     "data": {
      "text/html": [
       "<ol class=list-inline>\n",
       "\t<li>1</li>\n",
       "\t<li>2</li>\n",
       "\t<li>3</li>\n",
       "\t<li>4</li>\n",
       "\t<li>5</li>\n",
       "\t<li>6</li>\n",
       "\t<li>7</li>\n",
       "\t<li>8</li>\n",
       "\t<li>9</li>\n",
       "\t<li>10</li>\n",
       "\t<li>11</li>\n",
       "\t<li>12</li>\n",
       "\t<li>13</li>\n",
       "\t<li>14</li>\n",
       "\t<li>15</li>\n",
       "\t<li>16</li>\n",
       "\t<li>17</li>\n",
       "\t<li>18</li>\n",
       "\t<li>19</li>\n",
       "\t<li>20</li>\n",
       "\t<li>21</li>\n",
       "\t<li>22</li>\n",
       "\t<li>23</li>\n",
       "\t<li>24</li>\n",
       "\t<li>25</li>\n",
       "\t<li>26</li>\n",
       "\t<li>27</li>\n",
       "\t<li>28</li>\n",
       "\t<li>29</li>\n",
       "\t<li>30</li>\n",
       "</ol>\n"
      ],
      "text/latex": [
       "\\begin{enumerate*}\n",
       "\\item 1\n",
       "\\item 2\n",
       "\\item 3\n",
       "\\item 4\n",
       "\\item 5\n",
       "\\item 6\n",
       "\\item 7\n",
       "\\item 8\n",
       "\\item 9\n",
       "\\item 10\n",
       "\\item 11\n",
       "\\item 12\n",
       "\\item 13\n",
       "\\item 14\n",
       "\\item 15\n",
       "\\item 16\n",
       "\\item 17\n",
       "\\item 18\n",
       "\\item 19\n",
       "\\item 20\n",
       "\\item 21\n",
       "\\item 22\n",
       "\\item 23\n",
       "\\item 24\n",
       "\\item 25\n",
       "\\item 26\n",
       "\\item 27\n",
       "\\item 28\n",
       "\\item 29\n",
       "\\item 30\n",
       "\\end{enumerate*}\n"
      ],
      "text/markdown": [
       "1. 1\n",
       "2. 2\n",
       "3. 3\n",
       "4. 4\n",
       "5. 5\n",
       "6. 6\n",
       "7. 7\n",
       "8. 8\n",
       "9. 9\n",
       "10. 10\n",
       "11. 11\n",
       "12. 12\n",
       "13. 13\n",
       "14. 14\n",
       "15. 15\n",
       "16. 16\n",
       "17. 17\n",
       "18. 18\n",
       "19. 19\n",
       "20. 20\n",
       "21. 21\n",
       "22. 22\n",
       "23. 23\n",
       "24. 24\n",
       "25. 25\n",
       "26. 26\n",
       "27. 27\n",
       "28. 28\n",
       "29. 29\n",
       "30. 30\n",
       "\n",
       "\n"
      ],
      "text/plain": [
       " [1]  1  2  3  4  5  6  7  8  9 10 11 12 13 14 15 16 17 18 19 20 21 22 23 24 25\n",
       "[26] 26 27 28 29 30"
      ]
     },
     "metadata": {},
     "output_type": "display_data"
    }
   ],
   "source": [
    "1:length(my_seq) #creates new vector from 1 to the length of my_seq"
   ]
  },
  {
   "cell_type": "code",
   "execution_count": 44,
   "metadata": {},
   "outputs": [
    {
     "data": {
      "text/html": [
       "<ol class=list-inline>\n",
       "\t<li>1</li>\n",
       "\t<li>2</li>\n",
       "\t<li>3</li>\n",
       "\t<li>4</li>\n",
       "\t<li>5</li>\n",
       "\t<li>6</li>\n",
       "\t<li>7</li>\n",
       "\t<li>8</li>\n",
       "\t<li>9</li>\n",
       "\t<li>10</li>\n",
       "\t<li>11</li>\n",
       "\t<li>12</li>\n",
       "\t<li>13</li>\n",
       "\t<li>14</li>\n",
       "\t<li>15</li>\n",
       "\t<li>16</li>\n",
       "\t<li>17</li>\n",
       "\t<li>18</li>\n",
       "\t<li>19</li>\n",
       "\t<li>20</li>\n",
       "\t<li>21</li>\n",
       "\t<li>22</li>\n",
       "\t<li>23</li>\n",
       "\t<li>24</li>\n",
       "\t<li>25</li>\n",
       "\t<li>26</li>\n",
       "\t<li>27</li>\n",
       "\t<li>28</li>\n",
       "\t<li>29</li>\n",
       "\t<li>30</li>\n",
       "</ol>\n"
      ],
      "text/latex": [
       "\\begin{enumerate*}\n",
       "\\item 1\n",
       "\\item 2\n",
       "\\item 3\n",
       "\\item 4\n",
       "\\item 5\n",
       "\\item 6\n",
       "\\item 7\n",
       "\\item 8\n",
       "\\item 9\n",
       "\\item 10\n",
       "\\item 11\n",
       "\\item 12\n",
       "\\item 13\n",
       "\\item 14\n",
       "\\item 15\n",
       "\\item 16\n",
       "\\item 17\n",
       "\\item 18\n",
       "\\item 19\n",
       "\\item 20\n",
       "\\item 21\n",
       "\\item 22\n",
       "\\item 23\n",
       "\\item 24\n",
       "\\item 25\n",
       "\\item 26\n",
       "\\item 27\n",
       "\\item 28\n",
       "\\item 29\n",
       "\\item 30\n",
       "\\end{enumerate*}\n"
      ],
      "text/markdown": [
       "1. 1\n",
       "2. 2\n",
       "3. 3\n",
       "4. 4\n",
       "5. 5\n",
       "6. 6\n",
       "7. 7\n",
       "8. 8\n",
       "9. 9\n",
       "10. 10\n",
       "11. 11\n",
       "12. 12\n",
       "13. 13\n",
       "14. 14\n",
       "15. 15\n",
       "16. 16\n",
       "17. 17\n",
       "18. 18\n",
       "19. 19\n",
       "20. 20\n",
       "21. 21\n",
       "22. 22\n",
       "23. 23\n",
       "24. 24\n",
       "25. 25\n",
       "26. 26\n",
       "27. 27\n",
       "28. 28\n",
       "29. 29\n",
       "30. 30\n",
       "\n",
       "\n"
      ],
      "text/plain": [
       " [1]  1  2  3  4  5  6  7  8  9 10 11 12 13 14 15 16 17 18 19 20 21 22 23 24 25\n",
       "[26] 26 27 28 29 30"
      ]
     },
     "metadata": {},
     "output_type": "display_data"
    }
   ],
   "source": [
    "seq_along(my_seq) #does same thing as above"
   ]
  },
  {
   "cell_type": "markdown",
   "metadata": {},
   "source": [
    "### Creating sequences using the rep() function"
   ]
  },
  {
   "cell_type": "code",
   "execution_count": 45,
   "metadata": {},
   "outputs": [
    {
     "data": {
      "text/html": [
       "<ol class=list-inline>\n",
       "\t<li>0</li>\n",
       "\t<li>0</li>\n",
       "\t<li>0</li>\n",
       "\t<li>0</li>\n",
       "\t<li>0</li>\n",
       "\t<li>0</li>\n",
       "\t<li>0</li>\n",
       "\t<li>0</li>\n",
       "\t<li>0</li>\n",
       "\t<li>0</li>\n",
       "\t<li>0</li>\n",
       "\t<li>0</li>\n",
       "\t<li>0</li>\n",
       "\t<li>0</li>\n",
       "\t<li>0</li>\n",
       "\t<li>0</li>\n",
       "\t<li>0</li>\n",
       "\t<li>0</li>\n",
       "\t<li>0</li>\n",
       "\t<li>0</li>\n",
       "\t<li>0</li>\n",
       "\t<li>0</li>\n",
       "\t<li>0</li>\n",
       "\t<li>0</li>\n",
       "\t<li>0</li>\n",
       "\t<li>0</li>\n",
       "\t<li>0</li>\n",
       "\t<li>0</li>\n",
       "\t<li>0</li>\n",
       "\t<li>0</li>\n",
       "\t<li>0</li>\n",
       "\t<li>0</li>\n",
       "\t<li>0</li>\n",
       "\t<li>0</li>\n",
       "\t<li>0</li>\n",
       "\t<li>0</li>\n",
       "\t<li>0</li>\n",
       "\t<li>0</li>\n",
       "\t<li>0</li>\n",
       "\t<li>0</li>\n",
       "</ol>\n"
      ],
      "text/latex": [
       "\\begin{enumerate*}\n",
       "\\item 0\n",
       "\\item 0\n",
       "\\item 0\n",
       "\\item 0\n",
       "\\item 0\n",
       "\\item 0\n",
       "\\item 0\n",
       "\\item 0\n",
       "\\item 0\n",
       "\\item 0\n",
       "\\item 0\n",
       "\\item 0\n",
       "\\item 0\n",
       "\\item 0\n",
       "\\item 0\n",
       "\\item 0\n",
       "\\item 0\n",
       "\\item 0\n",
       "\\item 0\n",
       "\\item 0\n",
       "\\item 0\n",
       "\\item 0\n",
       "\\item 0\n",
       "\\item 0\n",
       "\\item 0\n",
       "\\item 0\n",
       "\\item 0\n",
       "\\item 0\n",
       "\\item 0\n",
       "\\item 0\n",
       "\\item 0\n",
       "\\item 0\n",
       "\\item 0\n",
       "\\item 0\n",
       "\\item 0\n",
       "\\item 0\n",
       "\\item 0\n",
       "\\item 0\n",
       "\\item 0\n",
       "\\item 0\n",
       "\\end{enumerate*}\n"
      ],
      "text/markdown": [
       "1. 0\n",
       "2. 0\n",
       "3. 0\n",
       "4. 0\n",
       "5. 0\n",
       "6. 0\n",
       "7. 0\n",
       "8. 0\n",
       "9. 0\n",
       "10. 0\n",
       "11. 0\n",
       "12. 0\n",
       "13. 0\n",
       "14. 0\n",
       "15. 0\n",
       "16. 0\n",
       "17. 0\n",
       "18. 0\n",
       "19. 0\n",
       "20. 0\n",
       "21. 0\n",
       "22. 0\n",
       "23. 0\n",
       "24. 0\n",
       "25. 0\n",
       "26. 0\n",
       "27. 0\n",
       "28. 0\n",
       "29. 0\n",
       "30. 0\n",
       "31. 0\n",
       "32. 0\n",
       "33. 0\n",
       "34. 0\n",
       "35. 0\n",
       "36. 0\n",
       "37. 0\n",
       "38. 0\n",
       "39. 0\n",
       "40. 0\n",
       "\n",
       "\n"
      ],
      "text/plain": [
       " [1] 0 0 0 0 0 0 0 0 0 0 0 0 0 0 0 0 0 0 0 0 0 0 0 0 0 0 0 0 0 0 0 0 0 0 0 0 0 0\n",
       "[39] 0 0"
      ]
     },
     "metadata": {},
     "output_type": "display_data"
    }
   ],
   "source": [
    "rep(0, times = 40) #creates vector with 40 zeros"
   ]
  },
  {
   "cell_type": "code",
   "execution_count": 46,
   "metadata": {},
   "outputs": [
    {
     "data": {
      "text/html": [
       "<ol class=list-inline>\n",
       "\t<li>0</li>\n",
       "\t<li>1</li>\n",
       "\t<li>2</li>\n",
       "\t<li>0</li>\n",
       "\t<li>1</li>\n",
       "\t<li>2</li>\n",
       "\t<li>0</li>\n",
       "\t<li>1</li>\n",
       "\t<li>2</li>\n",
       "\t<li>0</li>\n",
       "\t<li>1</li>\n",
       "\t<li>2</li>\n",
       "\t<li>0</li>\n",
       "\t<li>1</li>\n",
       "\t<li>2</li>\n",
       "\t<li>0</li>\n",
       "\t<li>1</li>\n",
       "\t<li>2</li>\n",
       "\t<li>0</li>\n",
       "\t<li>1</li>\n",
       "\t<li>2</li>\n",
       "\t<li>0</li>\n",
       "\t<li>1</li>\n",
       "\t<li>2</li>\n",
       "\t<li>0</li>\n",
       "\t<li>1</li>\n",
       "\t<li>2</li>\n",
       "\t<li>0</li>\n",
       "\t<li>1</li>\n",
       "\t<li>2</li>\n",
       "</ol>\n"
      ],
      "text/latex": [
       "\\begin{enumerate*}\n",
       "\\item 0\n",
       "\\item 1\n",
       "\\item 2\n",
       "\\item 0\n",
       "\\item 1\n",
       "\\item 2\n",
       "\\item 0\n",
       "\\item 1\n",
       "\\item 2\n",
       "\\item 0\n",
       "\\item 1\n",
       "\\item 2\n",
       "\\item 0\n",
       "\\item 1\n",
       "\\item 2\n",
       "\\item 0\n",
       "\\item 1\n",
       "\\item 2\n",
       "\\item 0\n",
       "\\item 1\n",
       "\\item 2\n",
       "\\item 0\n",
       "\\item 1\n",
       "\\item 2\n",
       "\\item 0\n",
       "\\item 1\n",
       "\\item 2\n",
       "\\item 0\n",
       "\\item 1\n",
       "\\item 2\n",
       "\\end{enumerate*}\n"
      ],
      "text/markdown": [
       "1. 0\n",
       "2. 1\n",
       "3. 2\n",
       "4. 0\n",
       "5. 1\n",
       "6. 2\n",
       "7. 0\n",
       "8. 1\n",
       "9. 2\n",
       "10. 0\n",
       "11. 1\n",
       "12. 2\n",
       "13. 0\n",
       "14. 1\n",
       "15. 2\n",
       "16. 0\n",
       "17. 1\n",
       "18. 2\n",
       "19. 0\n",
       "20. 1\n",
       "21. 2\n",
       "22. 0\n",
       "23. 1\n",
       "24. 2\n",
       "25. 0\n",
       "26. 1\n",
       "27. 2\n",
       "28. 0\n",
       "29. 1\n",
       "30. 2\n",
       "\n",
       "\n"
      ],
      "text/plain": [
       " [1] 0 1 2 0 1 2 0 1 2 0 1 2 0 1 2 0 1 2 0 1 2 0 1 2 0 1 2 0 1 2"
      ]
     },
     "metadata": {},
     "output_type": "display_data"
    }
   ],
   "source": [
    "rep(c(0, 1, 2), times = 10) #creates vector with 10 repetitions of 0, 1, 2"
   ]
  },
  {
   "cell_type": "code",
   "execution_count": 47,
   "metadata": {},
   "outputs": [
    {
     "data": {
      "text/html": [
       "<ol class=list-inline>\n",
       "\t<li>0</li>\n",
       "\t<li>0</li>\n",
       "\t<li>0</li>\n",
       "\t<li>0</li>\n",
       "\t<li>0</li>\n",
       "\t<li>0</li>\n",
       "\t<li>0</li>\n",
       "\t<li>0</li>\n",
       "\t<li>0</li>\n",
       "\t<li>0</li>\n",
       "\t<li>1</li>\n",
       "\t<li>1</li>\n",
       "\t<li>1</li>\n",
       "\t<li>1</li>\n",
       "\t<li>1</li>\n",
       "\t<li>1</li>\n",
       "\t<li>1</li>\n",
       "\t<li>1</li>\n",
       "\t<li>1</li>\n",
       "\t<li>1</li>\n",
       "\t<li>2</li>\n",
       "\t<li>2</li>\n",
       "\t<li>2</li>\n",
       "\t<li>2</li>\n",
       "\t<li>2</li>\n",
       "\t<li>2</li>\n",
       "\t<li>2</li>\n",
       "\t<li>2</li>\n",
       "\t<li>2</li>\n",
       "\t<li>2</li>\n",
       "</ol>\n"
      ],
      "text/latex": [
       "\\begin{enumerate*}\n",
       "\\item 0\n",
       "\\item 0\n",
       "\\item 0\n",
       "\\item 0\n",
       "\\item 0\n",
       "\\item 0\n",
       "\\item 0\n",
       "\\item 0\n",
       "\\item 0\n",
       "\\item 0\n",
       "\\item 1\n",
       "\\item 1\n",
       "\\item 1\n",
       "\\item 1\n",
       "\\item 1\n",
       "\\item 1\n",
       "\\item 1\n",
       "\\item 1\n",
       "\\item 1\n",
       "\\item 1\n",
       "\\item 2\n",
       "\\item 2\n",
       "\\item 2\n",
       "\\item 2\n",
       "\\item 2\n",
       "\\item 2\n",
       "\\item 2\n",
       "\\item 2\n",
       "\\item 2\n",
       "\\item 2\n",
       "\\end{enumerate*}\n"
      ],
      "text/markdown": [
       "1. 0\n",
       "2. 0\n",
       "3. 0\n",
       "4. 0\n",
       "5. 0\n",
       "6. 0\n",
       "7. 0\n",
       "8. 0\n",
       "9. 0\n",
       "10. 0\n",
       "11. 1\n",
       "12. 1\n",
       "13. 1\n",
       "14. 1\n",
       "15. 1\n",
       "16. 1\n",
       "17. 1\n",
       "18. 1\n",
       "19. 1\n",
       "20. 1\n",
       "21. 2\n",
       "22. 2\n",
       "23. 2\n",
       "24. 2\n",
       "25. 2\n",
       "26. 2\n",
       "27. 2\n",
       "28. 2\n",
       "29. 2\n",
       "30. 2\n",
       "\n",
       "\n"
      ],
      "text/plain": [
       " [1] 0 0 0 0 0 0 0 0 0 0 1 1 1 1 1 1 1 1 1 1 2 2 2 2 2 2 2 2 2 2"
      ]
     },
     "metadata": {},
     "output_type": "display_data"
    }
   ],
   "source": [
    "rep(c(0, 1, 2), each = 10) #creates vector with 10 zeros then 10 one then 10 twos"
   ]
  },
  {
   "cell_type": "markdown",
   "metadata": {},
   "source": [
    "## Unit 4: Vectors"
   ]
  },
  {
   "cell_type": "markdown",
   "metadata": {},
   "source": [
    "atomic vectors have one data type and lists can have multiple data types"
   ]
  },
  {
   "cell_type": "markdown",
   "metadata": {},
   "source": [
    "### Logical Vectors\n",
    "logical vectors can contain TRUE, FALSE and NA"
   ]
  },
  {
   "cell_type": "code",
   "execution_count": 48,
   "metadata": {
    "collapsed": true
   },
   "outputs": [],
   "source": [
    "num_vect <- c(0.5, 55, -10, 6)"
   ]
  },
  {
   "cell_type": "code",
   "execution_count": 50,
   "metadata": {},
   "outputs": [
    {
     "data": {
      "text/html": [
       "<ol class=list-inline>\n",
       "\t<li>TRUE</li>\n",
       "\t<li>FALSE</li>\n",
       "\t<li>TRUE</li>\n",
       "\t<li>FALSE</li>\n",
       "</ol>\n"
      ],
      "text/latex": [
       "\\begin{enumerate*}\n",
       "\\item TRUE\n",
       "\\item FALSE\n",
       "\\item TRUE\n",
       "\\item FALSE\n",
       "\\end{enumerate*}\n"
      ],
      "text/markdown": [
       "1. TRUE\n",
       "2. FALSE\n",
       "3. TRUE\n",
       "4. FALSE\n",
       "\n",
       "\n"
      ],
      "text/plain": [
       "[1]  TRUE FALSE  TRUE FALSE"
      ]
     },
     "metadata": {},
     "output_type": "display_data"
    }
   ],
   "source": [
    "tf <- num_vect < 1 #creates vector that tells us whether each corresponding element of num_vect satisfies this condition\n",
    "tf"
   ]
  },
  {
   "cell_type": "code",
   "execution_count": 52,
   "metadata": {},
   "outputs": [
    {
     "data": {
      "text/html": [
       "<ol class=list-inline>\n",
       "\t<li>FALSE</li>\n",
       "\t<li>TRUE</li>\n",
       "\t<li>FALSE</li>\n",
       "\t<li>TRUE</li>\n",
       "</ol>\n"
      ],
      "text/latex": [
       "\\begin{enumerate*}\n",
       "\\item FALSE\n",
       "\\item TRUE\n",
       "\\item FALSE\n",
       "\\item TRUE\n",
       "\\end{enumerate*}\n"
      ],
      "text/markdown": [
       "1. FALSE\n",
       "2. TRUE\n",
       "3. FALSE\n",
       "4. TRUE\n",
       "\n",
       "\n"
      ],
      "text/plain": [
       "[1] FALSE  TRUE FALSE  TRUE"
      ]
     },
     "metadata": {},
     "output_type": "display_data"
    }
   ],
   "source": [
    "num_vect >= 6"
   ]
  },
  {
   "cell_type": "markdown",
   "metadata": {},
   "source": [
    " `<` and `>=` symbols are 'logical operators' `==` for exact equality and `!=` for inequality"
   ]
  },
  {
   "cell_type": "markdown",
   "metadata": {},
   "source": [
    "with two logical expressions A and B `A|B` asked if at least one is true, `A&B` asks if they both are true and `!A` flips it from TRUE to FALSE or vice versa"
   ]
  },
  {
   "cell_type": "markdown",
   "metadata": {},
   "source": [
    "### Character vectors"
   ]
  },
  {
   "cell_type": "markdown",
   "metadata": {},
   "source": [
    "my_char <- c(\"My\", \"name\", \"is\")\n",
    "my_char"
   ]
  },
  {
   "cell_type": "code",
   "execution_count": 54,
   "metadata": {},
   "outputs": [
    {
     "data": {
      "text/html": [
       "'My name is'"
      ],
      "text/latex": [
       "'My name is'"
      ],
      "text/markdown": [
       "'My name is'"
      ],
      "text/plain": [
       "[1] \"My name is\""
      ]
     },
     "metadata": {},
     "output_type": "display_data"
    }
   ],
   "source": [
    "paste(my_char, collapse = \" \") #takes the three items in my_char and puts them together\n",
    "#make sure there is a space between quotes"
   ]
  },
  {
   "cell_type": "markdown",
   "metadata": {},
   "source": [
    "The space between the quotes tells R that we want a single space between each element when they are combined"
   ]
  },
  {
   "cell_type": "code",
   "execution_count": 55,
   "metadata": {},
   "outputs": [
    {
     "data": {
      "text/html": [
       "<ol class=list-inline>\n",
       "\t<li>'My'</li>\n",
       "\t<li>'name'</li>\n",
       "\t<li>'is'</li>\n",
       "\t<li>'Maria'</li>\n",
       "</ol>\n"
      ],
      "text/latex": [
       "\\begin{enumerate*}\n",
       "\\item 'My'\n",
       "\\item 'name'\n",
       "\\item 'is'\n",
       "\\item 'Maria'\n",
       "\\end{enumerate*}\n"
      ],
      "text/markdown": [
       "1. 'My'\n",
       "2. 'name'\n",
       "3. 'is'\n",
       "4. 'Maria'\n",
       "\n",
       "\n"
      ],
      "text/plain": [
       "[1] \"My\"    \"name\"  \"is\"    \"Maria\""
      ]
     },
     "metadata": {},
     "output_type": "display_data"
    }
   ],
   "source": [
    "my_name <- c(my_char, \"Maria\") #adds my name to the end of my_char\n",
    "my_name"
   ]
  },
  {
   "cell_type": "markdown",
   "metadata": {},
   "source": [
    "### Use paste() to combine elements in vectors"
   ]
  },
  {
   "cell_type": "code",
   "execution_count": 56,
   "metadata": {},
   "outputs": [
    {
     "data": {
      "text/html": [
       "'My name is Maria'"
      ],
      "text/latex": [
       "'My name is Maria'"
      ],
      "text/markdown": [
       "'My name is Maria'"
      ],
      "text/plain": [
       "[1] \"My name is Maria\""
      ]
     },
     "metadata": {},
     "output_type": "display_data"
    }
   ],
   "source": [
    "paste(my_name, collapse = \" \")"
   ]
  },
  {
   "cell_type": "code",
   "execution_count": 57,
   "metadata": {},
   "outputs": [
    {
     "data": {
      "text/html": [
       "'Hello world!'"
      ],
      "text/latex": [
       "'Hello world!'"
      ],
      "text/markdown": [
       "'Hello world!'"
      ],
      "text/plain": [
       "[1] \"Hello world!\""
      ]
     },
     "metadata": {},
     "output_type": "display_data"
    }
   ],
   "source": [
    "paste(\"Hello\", \"world!\", sep = \" \") #join two words seperate by space"
   ]
  },
  {
   "cell_type": "code",
   "execution_count": 58,
   "metadata": {},
   "outputs": [
    {
     "data": {
      "text/html": [
       "<ol class=list-inline>\n",
       "\t<li>'1X'</li>\n",
       "\t<li>'2Y'</li>\n",
       "\t<li>'3Z'</li>\n",
       "</ol>\n"
      ],
      "text/latex": [
       "\\begin{enumerate*}\n",
       "\\item '1X'\n",
       "\\item '2Y'\n",
       "\\item '3Z'\n",
       "\\end{enumerate*}\n"
      ],
      "text/markdown": [
       "1. '1X'\n",
       "2. '2Y'\n",
       "3. '3Z'\n",
       "\n",
       "\n"
      ],
      "text/plain": [
       "[1] \"1X\" \"2Y\" \"3Z\""
      ]
     },
     "metadata": {},
     "output_type": "display_data"
    }
   ],
   "source": [
    "paste(1:3,c(\"X\", \"Y\", \"Z\"), sep = \"\") #combines two vectors with length 3"
   ]
  },
  {
   "cell_type": "code",
   "execution_count": 59,
   "metadata": {},
   "outputs": [
    {
     "data": {
      "text/html": [
       "<ol class=list-inline>\n",
       "\t<li>'A-1'</li>\n",
       "\t<li>'B-2'</li>\n",
       "\t<li>'C-3'</li>\n",
       "\t<li>'D-4'</li>\n",
       "\t<li>'E-1'</li>\n",
       "\t<li>'F-2'</li>\n",
       "\t<li>'G-3'</li>\n",
       "\t<li>'H-4'</li>\n",
       "\t<li>'I-1'</li>\n",
       "\t<li>'J-2'</li>\n",
       "\t<li>'K-3'</li>\n",
       "\t<li>'L-4'</li>\n",
       "\t<li>'M-1'</li>\n",
       "\t<li>'N-2'</li>\n",
       "\t<li>'O-3'</li>\n",
       "\t<li>'P-4'</li>\n",
       "\t<li>'Q-1'</li>\n",
       "\t<li>'R-2'</li>\n",
       "\t<li>'S-3'</li>\n",
       "\t<li>'T-4'</li>\n",
       "\t<li>'U-1'</li>\n",
       "\t<li>'V-2'</li>\n",
       "\t<li>'W-3'</li>\n",
       "\t<li>'X-4'</li>\n",
       "\t<li>'Y-1'</li>\n",
       "\t<li>'Z-2'</li>\n",
       "</ol>\n"
      ],
      "text/latex": [
       "\\begin{enumerate*}\n",
       "\\item 'A-1'\n",
       "\\item 'B-2'\n",
       "\\item 'C-3'\n",
       "\\item 'D-4'\n",
       "\\item 'E-1'\n",
       "\\item 'F-2'\n",
       "\\item 'G-3'\n",
       "\\item 'H-4'\n",
       "\\item 'I-1'\n",
       "\\item 'J-2'\n",
       "\\item 'K-3'\n",
       "\\item 'L-4'\n",
       "\\item 'M-1'\n",
       "\\item 'N-2'\n",
       "\\item 'O-3'\n",
       "\\item 'P-4'\n",
       "\\item 'Q-1'\n",
       "\\item 'R-2'\n",
       "\\item 'S-3'\n",
       "\\item 'T-4'\n",
       "\\item 'U-1'\n",
       "\\item 'V-2'\n",
       "\\item 'W-3'\n",
       "\\item 'X-4'\n",
       "\\item 'Y-1'\n",
       "\\item 'Z-2'\n",
       "\\end{enumerate*}\n"
      ],
      "text/markdown": [
       "1. 'A-1'\n",
       "2. 'B-2'\n",
       "3. 'C-3'\n",
       "4. 'D-4'\n",
       "5. 'E-1'\n",
       "6. 'F-2'\n",
       "7. 'G-3'\n",
       "8. 'H-4'\n",
       "9. 'I-1'\n",
       "10. 'J-2'\n",
       "11. 'K-3'\n",
       "12. 'L-4'\n",
       "13. 'M-1'\n",
       "14. 'N-2'\n",
       "15. 'O-3'\n",
       "16. 'P-4'\n",
       "17. 'Q-1'\n",
       "18. 'R-2'\n",
       "19. 'S-3'\n",
       "20. 'T-4'\n",
       "21. 'U-1'\n",
       "22. 'V-2'\n",
       "23. 'W-3'\n",
       "24. 'X-4'\n",
       "25. 'Y-1'\n",
       "26. 'Z-2'\n",
       "\n",
       "\n"
      ],
      "text/plain": [
       " [1] \"A-1\" \"B-2\" \"C-3\" \"D-4\" \"E-1\" \"F-2\" \"G-3\" \"H-4\" \"I-1\" \"J-2\" \"K-3\" \"L-4\"\n",
       "[13] \"M-1\" \"N-2\" \"O-3\" \"P-4\" \"Q-1\" \"R-2\" \"S-3\" \"T-4\" \"U-1\" \"V-2\" \"W-3\" \"X-4\"\n",
       "[25] \"Y-1\" \"Z-2\""
      ]
     },
     "metadata": {},
     "output_type": "display_data"
    }
   ],
   "source": [
    "paste(LETTERS, 1:4, sep = \"-\") #LETTERS is alphabet, recycles vector 1:4"
   ]
  },
  {
   "cell_type": "markdown",
   "metadata": {},
   "source": [
    "vector 1:4 get 'coerced' into a character vector \"1\", \"2\", \"3\", \"4\""
   ]
  },
  {
   "cell_type": "markdown",
   "metadata": {},
   "source": [
    "## Unit 6: Subsetting Vectors"
   ]
  },
  {
   "cell_type": "code",
   "execution_count": 6,
   "metadata": {
    "collapsed": true
   },
   "outputs": [],
   "source": [
    "x <- rep(c(1, NA, 4.5, -67.5), times = 10) \n"
   ]
  },
  {
   "cell_type": "markdown",
   "metadata": {},
   "source": [
    "### selecting index from vector"
   ]
  },
  {
   "cell_type": "code",
   "execution_count": 7,
   "metadata": {},
   "outputs": [
    {
     "data": {
      "text/html": [
       "<ol class=list-inline>\n",
       "\t<li>1</li>\n",
       "\t<li>&lt;NA&gt;</li>\n",
       "\t<li>4.5</li>\n",
       "\t<li>-67.5</li>\n",
       "\t<li>1</li>\n",
       "\t<li>&lt;NA&gt;</li>\n",
       "\t<li>4.5</li>\n",
       "\t<li>-67.5</li>\n",
       "\t<li>1</li>\n",
       "\t<li>&lt;NA&gt;</li>\n",
       "</ol>\n"
      ],
      "text/latex": [
       "\\begin{enumerate*}\n",
       "\\item 1\n",
       "\\item <NA>\n",
       "\\item 4.5\n",
       "\\item -67.5\n",
       "\\item 1\n",
       "\\item <NA>\n",
       "\\item 4.5\n",
       "\\item -67.5\n",
       "\\item 1\n",
       "\\item <NA>\n",
       "\\end{enumerate*}\n"
      ],
      "text/markdown": [
       "1. 1\n",
       "2. &lt;NA&gt;\n",
       "3. 4.5\n",
       "4. -67.5\n",
       "5. 1\n",
       "6. &lt;NA&gt;\n",
       "7. 4.5\n",
       "8. -67.5\n",
       "9. 1\n",
       "10. &lt;NA&gt;\n",
       "\n",
       "\n"
      ],
      "text/plain": [
       " [1]   1.0    NA   4.5 -67.5   1.0    NA   4.5 -67.5   1.0    NA"
      ]
     },
     "metadata": {},
     "output_type": "display_data"
    }
   ],
   "source": [
    "x[1:10]"
   ]
  },
  {
   "cell_type": "markdown",
   "metadata": {},
   "source": [
    "Index vectors can be logical vectors, positive integers, negative integers and character strings"
   ]
  },
  {
   "cell_type": "markdown",
   "metadata": {},
   "source": [
    "### Logical Vectors"
   ]
  },
  {
   "cell_type": "markdown",
   "metadata": {},
   "source": [
    "#### selecting all elements that are not NA\n",
    "is.na(x) yields a vector of logical values the same length as x, with TRUEs corresponding to NA values in x and FALSEs corresponding to non NA values in X"
   ]
  },
  {
   "cell_type": "code",
   "execution_count": 8,
   "metadata": {},
   "outputs": [
    {
     "data": {
      "text/html": [
       "<ol class=list-inline>\n",
       "\t<li>&lt;NA&gt;</li>\n",
       "\t<li>&lt;NA&gt;</li>\n",
       "\t<li>&lt;NA&gt;</li>\n",
       "\t<li>&lt;NA&gt;</li>\n",
       "\t<li>&lt;NA&gt;</li>\n",
       "\t<li>&lt;NA&gt;</li>\n",
       "\t<li>&lt;NA&gt;</li>\n",
       "\t<li>&lt;NA&gt;</li>\n",
       "\t<li>&lt;NA&gt;</li>\n",
       "\t<li>&lt;NA&gt;</li>\n",
       "</ol>\n"
      ],
      "text/latex": [
       "\\begin{enumerate*}\n",
       "\\item <NA>\n",
       "\\item <NA>\n",
       "\\item <NA>\n",
       "\\item <NA>\n",
       "\\item <NA>\n",
       "\\item <NA>\n",
       "\\item <NA>\n",
       "\\item <NA>\n",
       "\\item <NA>\n",
       "\\item <NA>\n",
       "\\end{enumerate*}\n"
      ],
      "text/markdown": [
       "1. &lt;NA&gt;\n",
       "2. &lt;NA&gt;\n",
       "3. &lt;NA&gt;\n",
       "4. &lt;NA&gt;\n",
       "5. &lt;NA&gt;\n",
       "6. &lt;NA&gt;\n",
       "7. &lt;NA&gt;\n",
       "8. &lt;NA&gt;\n",
       "9. &lt;NA&gt;\n",
       "10. &lt;NA&gt;\n",
       "\n",
       "\n"
      ],
      "text/plain": [
       " [1] NA NA NA NA NA NA NA NA NA NA"
      ]
     },
     "metadata": {},
     "output_type": "display_data"
    }
   ],
   "source": [
    "x[is.na(x)]"
   ]
  },
  {
   "cell_type": "markdown",
   "metadata": {},
   "source": [
    "!is.na(x) creates a vector will all values no NA"
   ]
  },
  {
   "cell_type": "code",
   "execution_count": 9,
   "metadata": {},
   "outputs": [
    {
     "data": {
      "text/html": [
       "<ol class=list-inline>\n",
       "\t<li>1</li>\n",
       "\t<li>4.5</li>\n",
       "\t<li>-67.5</li>\n",
       "\t<li>1</li>\n",
       "\t<li>4.5</li>\n",
       "\t<li>-67.5</li>\n",
       "\t<li>1</li>\n",
       "\t<li>4.5</li>\n",
       "\t<li>-67.5</li>\n",
       "\t<li>1</li>\n",
       "\t<li>4.5</li>\n",
       "\t<li>-67.5</li>\n",
       "\t<li>1</li>\n",
       "\t<li>4.5</li>\n",
       "\t<li>-67.5</li>\n",
       "\t<li>1</li>\n",
       "\t<li>4.5</li>\n",
       "\t<li>-67.5</li>\n",
       "\t<li>1</li>\n",
       "\t<li>4.5</li>\n",
       "\t<li>-67.5</li>\n",
       "\t<li>1</li>\n",
       "\t<li>4.5</li>\n",
       "\t<li>-67.5</li>\n",
       "\t<li>1</li>\n",
       "\t<li>4.5</li>\n",
       "\t<li>-67.5</li>\n",
       "\t<li>1</li>\n",
       "\t<li>4.5</li>\n",
       "\t<li>-67.5</li>\n",
       "</ol>\n"
      ],
      "text/latex": [
       "\\begin{enumerate*}\n",
       "\\item 1\n",
       "\\item 4.5\n",
       "\\item -67.5\n",
       "\\item 1\n",
       "\\item 4.5\n",
       "\\item -67.5\n",
       "\\item 1\n",
       "\\item 4.5\n",
       "\\item -67.5\n",
       "\\item 1\n",
       "\\item 4.5\n",
       "\\item -67.5\n",
       "\\item 1\n",
       "\\item 4.5\n",
       "\\item -67.5\n",
       "\\item 1\n",
       "\\item 4.5\n",
       "\\item -67.5\n",
       "\\item 1\n",
       "\\item 4.5\n",
       "\\item -67.5\n",
       "\\item 1\n",
       "\\item 4.5\n",
       "\\item -67.5\n",
       "\\item 1\n",
       "\\item 4.5\n",
       "\\item -67.5\n",
       "\\item 1\n",
       "\\item 4.5\n",
       "\\item -67.5\n",
       "\\end{enumerate*}\n"
      ],
      "text/markdown": [
       "1. 1\n",
       "2. 4.5\n",
       "3. -67.5\n",
       "4. 1\n",
       "5. 4.5\n",
       "6. -67.5\n",
       "7. 1\n",
       "8. 4.5\n",
       "9. -67.5\n",
       "10. 1\n",
       "11. 4.5\n",
       "12. -67.5\n",
       "13. 1\n",
       "14. 4.5\n",
       "15. -67.5\n",
       "16. 1\n",
       "17. 4.5\n",
       "18. -67.5\n",
       "19. 1\n",
       "20. 4.5\n",
       "21. -67.5\n",
       "22. 1\n",
       "23. 4.5\n",
       "24. -67.5\n",
       "25. 1\n",
       "26. 4.5\n",
       "27. -67.5\n",
       "28. 1\n",
       "29. 4.5\n",
       "30. -67.5\n",
       "\n",
       "\n"
      ],
      "text/plain": [
       " [1]   1.0   4.5 -67.5   1.0   4.5 -67.5   1.0   4.5 -67.5   1.0   4.5 -67.5\n",
       "[13]   1.0   4.5 -67.5   1.0   4.5 -67.5   1.0   4.5 -67.5   1.0   4.5 -67.5\n",
       "[25]   1.0   4.5 -67.5   1.0   4.5 -67.5"
      ]
     },
     "metadata": {},
     "output_type": "display_data"
    }
   ],
   "source": [
    "y <- x[!is.na(x)]\n",
    "y"
   ]
  },
  {
   "cell_type": "code",
   "execution_count": 10,
   "metadata": {},
   "outputs": [
    {
     "data": {
      "text/html": [
       "<ol class=list-inline>\n",
       "\t<li>1</li>\n",
       "\t<li>4.5</li>\n",
       "\t<li>1</li>\n",
       "\t<li>4.5</li>\n",
       "\t<li>1</li>\n",
       "\t<li>4.5</li>\n",
       "\t<li>1</li>\n",
       "\t<li>4.5</li>\n",
       "\t<li>1</li>\n",
       "\t<li>4.5</li>\n",
       "\t<li>1</li>\n",
       "\t<li>4.5</li>\n",
       "\t<li>1</li>\n",
       "\t<li>4.5</li>\n",
       "\t<li>1</li>\n",
       "\t<li>4.5</li>\n",
       "\t<li>1</li>\n",
       "\t<li>4.5</li>\n",
       "\t<li>1</li>\n",
       "\t<li>4.5</li>\n",
       "</ol>\n"
      ],
      "text/latex": [
       "\\begin{enumerate*}\n",
       "\\item 1\n",
       "\\item 4.5\n",
       "\\item 1\n",
       "\\item 4.5\n",
       "\\item 1\n",
       "\\item 4.5\n",
       "\\item 1\n",
       "\\item 4.5\n",
       "\\item 1\n",
       "\\item 4.5\n",
       "\\item 1\n",
       "\\item 4.5\n",
       "\\item 1\n",
       "\\item 4.5\n",
       "\\item 1\n",
       "\\item 4.5\n",
       "\\item 1\n",
       "\\item 4.5\n",
       "\\item 1\n",
       "\\item 4.5\n",
       "\\end{enumerate*}\n"
      ],
      "text/markdown": [
       "1. 1\n",
       "2. 4.5\n",
       "3. 1\n",
       "4. 4.5\n",
       "5. 1\n",
       "6. 4.5\n",
       "7. 1\n",
       "8. 4.5\n",
       "9. 1\n",
       "10. 4.5\n",
       "11. 1\n",
       "12. 4.5\n",
       "13. 1\n",
       "14. 4.5\n",
       "15. 1\n",
       "16. 4.5\n",
       "17. 1\n",
       "18. 4.5\n",
       "19. 1\n",
       "20. 4.5\n",
       "\n",
       "\n"
      ],
      "text/plain": [
       " [1] 1.0 4.5 1.0 4.5 1.0 4.5 1.0 4.5 1.0 4.5 1.0 4.5 1.0 4.5 1.0 4.5 1.0 4.5 1.0\n",
       "[20] 4.5"
      ]
     },
     "metadata": {},
     "output_type": "display_data"
    }
   ],
   "source": [
    "y[y > 0] #gives a vector of all the positive elements of y"
   ]
  },
  {
   "cell_type": "markdown",
   "metadata": {},
   "source": [
    "If you skip over the step of getting rid of the NAs you get NAs in your vector when you type x[x > 0]"
   ]
  },
  {
   "cell_type": "code",
   "execution_count": 11,
   "metadata": {},
   "outputs": [
    {
     "data": {
      "text/html": [
       "<ol class=list-inline>\n",
       "\t<li>1</li>\n",
       "\t<li>4.5</li>\n",
       "\t<li>1</li>\n",
       "\t<li>4.5</li>\n",
       "\t<li>1</li>\n",
       "\t<li>4.5</li>\n",
       "\t<li>1</li>\n",
       "\t<li>4.5</li>\n",
       "\t<li>1</li>\n",
       "\t<li>4.5</li>\n",
       "\t<li>1</li>\n",
       "\t<li>4.5</li>\n",
       "\t<li>1</li>\n",
       "\t<li>4.5</li>\n",
       "\t<li>1</li>\n",
       "\t<li>4.5</li>\n",
       "\t<li>1</li>\n",
       "\t<li>4.5</li>\n",
       "\t<li>1</li>\n",
       "\t<li>4.5</li>\n",
       "</ol>\n"
      ],
      "text/latex": [
       "\\begin{enumerate*}\n",
       "\\item 1\n",
       "\\item 4.5\n",
       "\\item 1\n",
       "\\item 4.5\n",
       "\\item 1\n",
       "\\item 4.5\n",
       "\\item 1\n",
       "\\item 4.5\n",
       "\\item 1\n",
       "\\item 4.5\n",
       "\\item 1\n",
       "\\item 4.5\n",
       "\\item 1\n",
       "\\item 4.5\n",
       "\\item 1\n",
       "\\item 4.5\n",
       "\\item 1\n",
       "\\item 4.5\n",
       "\\item 1\n",
       "\\item 4.5\n",
       "\\end{enumerate*}\n"
      ],
      "text/markdown": [
       "1. 1\n",
       "2. 4.5\n",
       "3. 1\n",
       "4. 4.5\n",
       "5. 1\n",
       "6. 4.5\n",
       "7. 1\n",
       "8. 4.5\n",
       "9. 1\n",
       "10. 4.5\n",
       "11. 1\n",
       "12. 4.5\n",
       "13. 1\n",
       "14. 4.5\n",
       "15. 1\n",
       "16. 4.5\n",
       "17. 1\n",
       "18. 4.5\n",
       "19. 1\n",
       "20. 4.5\n",
       "\n",
       "\n"
      ],
      "text/plain": [
       " [1] 1.0 4.5 1.0 4.5 1.0 4.5 1.0 4.5 1.0 4.5 1.0 4.5 1.0 4.5 1.0 4.5 1.0 4.5 1.0\n",
       "[20] 4.5"
      ]
     },
     "metadata": {},
     "output_type": "display_data"
    }
   ],
   "source": [
    "x[!is.na(x) & x > 0] #requests values of x that are non-missing and greater than 0"
   ]
  },
  {
   "cell_type": "markdown",
   "metadata": {},
   "source": [
    "R uses 1 based indexing - first element is number 1"
   ]
  },
  {
   "cell_type": "code",
   "execution_count": 12,
   "metadata": {},
   "outputs": [
    {
     "data": {
      "text/html": [
       "<ol class=list-inline>\n",
       "\t<li>4.5</li>\n",
       "\t<li>1</li>\n",
       "\t<li>4.5</li>\n",
       "</ol>\n"
      ],
      "text/latex": [
       "\\begin{enumerate*}\n",
       "\\item 4.5\n",
       "\\item 1\n",
       "\\item 4.5\n",
       "\\end{enumerate*}\n"
      ],
      "text/markdown": [
       "1. 4.5\n",
       "2. 1\n",
       "3. 4.5\n",
       "\n",
       "\n"
      ],
      "text/plain": [
       "[1] 4.5 1.0 4.5"
      ]
     },
     "metadata": {},
     "output_type": "display_data"
    }
   ],
   "source": [
    "x[c(3, 5, 7)] #gets the 3rd, 5th, and 7th elements of the vector"
   ]
  },
  {
   "cell_type": "markdown",
   "metadata": {},
   "source": [
    "always make sure the element you are asking for is within the vector"
   ]
  },
  {
   "cell_type": "code",
   "execution_count": 13,
   "metadata": {},
   "outputs": [
    {
     "data": {
      "text/html": [
       "<ol class=list-inline>\n",
       "\t<li>1</li>\n",
       "\t<li>4.5</li>\n",
       "\t<li>-67.5</li>\n",
       "\t<li>1</li>\n",
       "\t<li>&lt;NA&gt;</li>\n",
       "\t<li>4.5</li>\n",
       "\t<li>-67.5</li>\n",
       "\t<li>1</li>\n",
       "\t<li>4.5</li>\n",
       "\t<li>-67.5</li>\n",
       "\t<li>1</li>\n",
       "\t<li>&lt;NA&gt;</li>\n",
       "\t<li>4.5</li>\n",
       "\t<li>-67.5</li>\n",
       "\t<li>1</li>\n",
       "\t<li>&lt;NA&gt;</li>\n",
       "\t<li>4.5</li>\n",
       "\t<li>-67.5</li>\n",
       "\t<li>1</li>\n",
       "\t<li>&lt;NA&gt;</li>\n",
       "\t<li>4.5</li>\n",
       "\t<li>-67.5</li>\n",
       "\t<li>1</li>\n",
       "\t<li>&lt;NA&gt;</li>\n",
       "\t<li>4.5</li>\n",
       "\t<li>-67.5</li>\n",
       "\t<li>1</li>\n",
       "\t<li>&lt;NA&gt;</li>\n",
       "\t<li>4.5</li>\n",
       "\t<li>-67.5</li>\n",
       "\t<li>1</li>\n",
       "\t<li>&lt;NA&gt;</li>\n",
       "\t<li>4.5</li>\n",
       "\t<li>-67.5</li>\n",
       "\t<li>1</li>\n",
       "\t<li>&lt;NA&gt;</li>\n",
       "\t<li>4.5</li>\n",
       "\t<li>-67.5</li>\n",
       "</ol>\n"
      ],
      "text/latex": [
       "\\begin{enumerate*}\n",
       "\\item 1\n",
       "\\item 4.5\n",
       "\\item -67.5\n",
       "\\item 1\n",
       "\\item <NA>\n",
       "\\item 4.5\n",
       "\\item -67.5\n",
       "\\item 1\n",
       "\\item 4.5\n",
       "\\item -67.5\n",
       "\\item 1\n",
       "\\item <NA>\n",
       "\\item 4.5\n",
       "\\item -67.5\n",
       "\\item 1\n",
       "\\item <NA>\n",
       "\\item 4.5\n",
       "\\item -67.5\n",
       "\\item 1\n",
       "\\item <NA>\n",
       "\\item 4.5\n",
       "\\item -67.5\n",
       "\\item 1\n",
       "\\item <NA>\n",
       "\\item 4.5\n",
       "\\item -67.5\n",
       "\\item 1\n",
       "\\item <NA>\n",
       "\\item 4.5\n",
       "\\item -67.5\n",
       "\\item 1\n",
       "\\item <NA>\n",
       "\\item 4.5\n",
       "\\item -67.5\n",
       "\\item 1\n",
       "\\item <NA>\n",
       "\\item 4.5\n",
       "\\item -67.5\n",
       "\\end{enumerate*}\n"
      ],
      "text/markdown": [
       "1. 1\n",
       "2. 4.5\n",
       "3. -67.5\n",
       "4. 1\n",
       "5. &lt;NA&gt;\n",
       "6. 4.5\n",
       "7. -67.5\n",
       "8. 1\n",
       "9. 4.5\n",
       "10. -67.5\n",
       "11. 1\n",
       "12. &lt;NA&gt;\n",
       "13. 4.5\n",
       "14. -67.5\n",
       "15. 1\n",
       "16. &lt;NA&gt;\n",
       "17. 4.5\n",
       "18. -67.5\n",
       "19. 1\n",
       "20. &lt;NA&gt;\n",
       "21. 4.5\n",
       "22. -67.5\n",
       "23. 1\n",
       "24. &lt;NA&gt;\n",
       "25. 4.5\n",
       "26. -67.5\n",
       "27. 1\n",
       "28. &lt;NA&gt;\n",
       "29. 4.5\n",
       "30. -67.5\n",
       "31. 1\n",
       "32. &lt;NA&gt;\n",
       "33. 4.5\n",
       "34. -67.5\n",
       "35. 1\n",
       "36. &lt;NA&gt;\n",
       "37. 4.5\n",
       "38. -67.5\n",
       "\n",
       "\n"
      ],
      "text/plain": [
       " [1]   1.0   4.5 -67.5   1.0    NA   4.5 -67.5   1.0   4.5 -67.5   1.0    NA\n",
       "[13]   4.5 -67.5   1.0    NA   4.5 -67.5   1.0    NA   4.5 -67.5   1.0    NA\n",
       "[25]   4.5 -67.5   1.0    NA   4.5 -67.5   1.0    NA   4.5 -67.5   1.0    NA\n",
       "[37]   4.5 -67.5"
      ]
     },
     "metadata": {},
     "output_type": "display_data"
    }
   ],
   "source": [
    "x[c(-2,-10)] #gives us all elements in the vector except the 2nd and 10th"
   ]
  },
  {
   "cell_type": "code",
   "execution_count": 14,
   "metadata": {},
   "outputs": [
    {
     "data": {
      "text/html": [
       "<ol class=list-inline>\n",
       "\t<li>1</li>\n",
       "\t<li>4.5</li>\n",
       "\t<li>-67.5</li>\n",
       "\t<li>1</li>\n",
       "\t<li>&lt;NA&gt;</li>\n",
       "\t<li>4.5</li>\n",
       "\t<li>-67.5</li>\n",
       "\t<li>1</li>\n",
       "\t<li>4.5</li>\n",
       "\t<li>-67.5</li>\n",
       "\t<li>1</li>\n",
       "\t<li>&lt;NA&gt;</li>\n",
       "\t<li>4.5</li>\n",
       "\t<li>-67.5</li>\n",
       "\t<li>1</li>\n",
       "\t<li>&lt;NA&gt;</li>\n",
       "\t<li>4.5</li>\n",
       "\t<li>-67.5</li>\n",
       "\t<li>1</li>\n",
       "\t<li>&lt;NA&gt;</li>\n",
       "\t<li>4.5</li>\n",
       "\t<li>-67.5</li>\n",
       "\t<li>1</li>\n",
       "\t<li>&lt;NA&gt;</li>\n",
       "\t<li>4.5</li>\n",
       "\t<li>-67.5</li>\n",
       "\t<li>1</li>\n",
       "\t<li>&lt;NA&gt;</li>\n",
       "\t<li>4.5</li>\n",
       "\t<li>-67.5</li>\n",
       "\t<li>1</li>\n",
       "\t<li>&lt;NA&gt;</li>\n",
       "\t<li>4.5</li>\n",
       "\t<li>-67.5</li>\n",
       "\t<li>1</li>\n",
       "\t<li>&lt;NA&gt;</li>\n",
       "\t<li>4.5</li>\n",
       "\t<li>-67.5</li>\n",
       "</ol>\n"
      ],
      "text/latex": [
       "\\begin{enumerate*}\n",
       "\\item 1\n",
       "\\item 4.5\n",
       "\\item -67.5\n",
       "\\item 1\n",
       "\\item <NA>\n",
       "\\item 4.5\n",
       "\\item -67.5\n",
       "\\item 1\n",
       "\\item 4.5\n",
       "\\item -67.5\n",
       "\\item 1\n",
       "\\item <NA>\n",
       "\\item 4.5\n",
       "\\item -67.5\n",
       "\\item 1\n",
       "\\item <NA>\n",
       "\\item 4.5\n",
       "\\item -67.5\n",
       "\\item 1\n",
       "\\item <NA>\n",
       "\\item 4.5\n",
       "\\item -67.5\n",
       "\\item 1\n",
       "\\item <NA>\n",
       "\\item 4.5\n",
       "\\item -67.5\n",
       "\\item 1\n",
       "\\item <NA>\n",
       "\\item 4.5\n",
       "\\item -67.5\n",
       "\\item 1\n",
       "\\item <NA>\n",
       "\\item 4.5\n",
       "\\item -67.5\n",
       "\\item 1\n",
       "\\item <NA>\n",
       "\\item 4.5\n",
       "\\item -67.5\n",
       "\\end{enumerate*}\n"
      ],
      "text/markdown": [
       "1. 1\n",
       "2. 4.5\n",
       "3. -67.5\n",
       "4. 1\n",
       "5. &lt;NA&gt;\n",
       "6. 4.5\n",
       "7. -67.5\n",
       "8. 1\n",
       "9. 4.5\n",
       "10. -67.5\n",
       "11. 1\n",
       "12. &lt;NA&gt;\n",
       "13. 4.5\n",
       "14. -67.5\n",
       "15. 1\n",
       "16. &lt;NA&gt;\n",
       "17. 4.5\n",
       "18. -67.5\n",
       "19. 1\n",
       "20. &lt;NA&gt;\n",
       "21. 4.5\n",
       "22. -67.5\n",
       "23. 1\n",
       "24. &lt;NA&gt;\n",
       "25. 4.5\n",
       "26. -67.5\n",
       "27. 1\n",
       "28. &lt;NA&gt;\n",
       "29. 4.5\n",
       "30. -67.5\n",
       "31. 1\n",
       "32. &lt;NA&gt;\n",
       "33. 4.5\n",
       "34. -67.5\n",
       "35. 1\n",
       "36. &lt;NA&gt;\n",
       "37. 4.5\n",
       "38. -67.5\n",
       "\n",
       "\n"
      ],
      "text/plain": [
       " [1]   1.0   4.5 -67.5   1.0    NA   4.5 -67.5   1.0   4.5 -67.5   1.0    NA\n",
       "[13]   4.5 -67.5   1.0    NA   4.5 -67.5   1.0    NA   4.5 -67.5   1.0    NA\n",
       "[25]   4.5 -67.5   1.0    NA   4.5 -67.5   1.0    NA   4.5 -67.5   1.0    NA\n",
       "[37]   4.5 -67.5"
      ]
     },
     "metadata": {},
     "output_type": "display_data"
    }
   ],
   "source": [
    "x[-c(2, 10)] #gives same result as above"
   ]
  },
  {
   "cell_type": "markdown",
   "metadata": {},
   "source": [
    "### naming elements in a vector"
   ]
  },
  {
   "cell_type": "code",
   "execution_count": 15,
   "metadata": {
    "collapsed": true
   },
   "outputs": [],
   "source": [
    "vect <- c(foo = 11, bar = 2, norf = NA)\n",
    "vect"
   ]
  },
  {
   "cell_type": "code",
   "execution_count": 16,
   "metadata": {},
   "outputs": [
    {
     "data": {
      "text/html": [
       "<ol class=list-inline>\n",
       "\t<li>'foo'</li>\n",
       "\t<li>'bar'</li>\n",
       "\t<li>'norf'</li>\n",
       "</ol>\n"
      ],
      "text/latex": [
       "\\begin{enumerate*}\n",
       "\\item 'foo'\n",
       "\\item 'bar'\n",
       "\\item 'norf'\n",
       "\\end{enumerate*}\n"
      ],
      "text/markdown": [
       "1. 'foo'\n",
       "2. 'bar'\n",
       "3. 'norf'\n",
       "\n",
       "\n"
      ],
      "text/plain": [
       "[1] \"foo\"  \"bar\"  \"norf\""
      ]
     },
     "metadata": {},
     "output_type": "display_data"
    }
   ],
   "source": [
    "names(vect)"
   ]
  },
  {
   "cell_type": "code",
   "execution_count": 17,
   "metadata": {
    "collapsed": true
   },
   "outputs": [],
   "source": [
    "vect2 <- c(11, 2, NA)"
   ]
  },
  {
   "cell_type": "code",
   "execution_count": 19,
   "metadata": {
    "collapsed": true
   },
   "outputs": [],
   "source": [
    "names(vect2) <- c(\"foo\", \"bar\", \"norf\") #adds names to vect 2"
   ]
  },
  {
   "cell_type": "code",
   "execution_count": 21,
   "metadata": {},
   "outputs": [
    {
     "data": {
      "text/html": [
       "TRUE"
      ],
      "text/latex": [
       "TRUE"
      ],
      "text/markdown": [
       "TRUE"
      ],
      "text/plain": [
       "[1] TRUE"
      ]
     },
     "metadata": {},
     "output_type": "display_data"
    }
   ],
   "source": [
    "identical(vect, vect2) #checks if vect1 and vect2 are identical"
   ]
  },
  {
   "cell_type": "code",
   "execution_count": 22,
   "metadata": {},
   "outputs": [
    {
     "data": {
      "text/html": [
       "<strong>bar:</strong> 2"
      ],
      "text/latex": [
       "\\textbf{bar:} 2"
      ],
      "text/markdown": [
       "**bar:** 2"
      ],
      "text/plain": [
       "bar \n",
       "  2 "
      ]
     },
     "metadata": {},
     "output_type": "display_data"
    }
   ],
   "source": [
    "vect[\"bar\"] #gives us the second element of vect"
   ]
  },
  {
   "cell_type": "code",
   "execution_count": 23,
   "metadata": {},
   "outputs": [
    {
     "data": {
      "text/html": [
       "<dl class=dl-horizontal>\n",
       "\t<dt>foo</dt>\n",
       "\t\t<dd>11</dd>\n",
       "\t<dt>bar</dt>\n",
       "\t\t<dd>2</dd>\n",
       "</dl>\n"
      ],
      "text/latex": [
       "\\begin{description*}\n",
       "\\item[foo] 11\n",
       "\\item[bar] 2\n",
       "\\end{description*}\n"
      ],
      "text/markdown": [
       "foo\n",
       ":   11bar\n",
       ":   2\n",
       "\n"
      ],
      "text/plain": [
       "foo bar \n",
       " 11   2 "
      ]
     },
     "metadata": {},
     "output_type": "display_data"
    }
   ],
   "source": [
    "vect[c(\"foo\", \"bar\")] #creates vector with elements \"foo\" and \"bar\""
   ]
  },
  {
   "cell_type": "markdown",
   "metadata": {},
   "source": [
    "## Unit 7: Matrices and Data Frames"
   ]
  },
  {
   "cell_type": "markdown",
   "metadata": {},
   "source": [
    "Both contain 'rectangular' data types, store tabular data with rows and columns"
   ]
  },
  {
   "cell_type": "markdown",
   "metadata": {},
   "source": [
    "Matrices only contain a single class of date, data frames consist of many different classes of data"
   ]
  },
  {
   "cell_type": "markdown",
   "metadata": {},
   "source": [
    "### Creating a Matrix"
   ]
  },
  {
   "cell_type": "code",
   "execution_count": 2,
   "metadata": {},
   "outputs": [
    {
     "data": {
      "text/html": [
       "<ol class=list-inline>\n",
       "\t<li>1</li>\n",
       "\t<li>2</li>\n",
       "\t<li>3</li>\n",
       "\t<li>4</li>\n",
       "\t<li>5</li>\n",
       "\t<li>6</li>\n",
       "\t<li>7</li>\n",
       "\t<li>8</li>\n",
       "\t<li>9</li>\n",
       "\t<li>10</li>\n",
       "\t<li>11</li>\n",
       "\t<li>12</li>\n",
       "\t<li>13</li>\n",
       "\t<li>14</li>\n",
       "\t<li>15</li>\n",
       "\t<li>16</li>\n",
       "\t<li>17</li>\n",
       "\t<li>18</li>\n",
       "\t<li>19</li>\n",
       "\t<li>20</li>\n",
       "</ol>\n"
      ],
      "text/latex": [
       "\\begin{enumerate*}\n",
       "\\item 1\n",
       "\\item 2\n",
       "\\item 3\n",
       "\\item 4\n",
       "\\item 5\n",
       "\\item 6\n",
       "\\item 7\n",
       "\\item 8\n",
       "\\item 9\n",
       "\\item 10\n",
       "\\item 11\n",
       "\\item 12\n",
       "\\item 13\n",
       "\\item 14\n",
       "\\item 15\n",
       "\\item 16\n",
       "\\item 17\n",
       "\\item 18\n",
       "\\item 19\n",
       "\\item 20\n",
       "\\end{enumerate*}\n"
      ],
      "text/markdown": [
       "1. 1\n",
       "2. 2\n",
       "3. 3\n",
       "4. 4\n",
       "5. 5\n",
       "6. 6\n",
       "7. 7\n",
       "8. 8\n",
       "9. 9\n",
       "10. 10\n",
       "11. 11\n",
       "12. 12\n",
       "13. 13\n",
       "14. 14\n",
       "15. 15\n",
       "16. 16\n",
       "17. 17\n",
       "18. 18\n",
       "19. 19\n",
       "20. 20\n",
       "\n",
       "\n"
      ],
      "text/plain": [
       " [1]  1  2  3  4  5  6  7  8  9 10 11 12 13 14 15 16 17 18 19 20"
      ]
     },
     "metadata": {},
     "output_type": "display_data"
    }
   ],
   "source": [
    "my_vector <- 1:20\n",
    "my_vector"
   ]
  },
  {
   "cell_type": "code",
   "execution_count": 3,
   "metadata": {},
   "outputs": [
    {
     "data": {
      "text/plain": [
       "NULL"
      ]
     },
     "metadata": {},
     "output_type": "display_data"
    }
   ],
   "source": [
    "dim(my_vector) # tells you the dimensions of the object"
   ]
  },
  {
   "cell_type": "code",
   "execution_count": 4,
   "metadata": {},
   "outputs": [
    {
     "data": {
      "text/html": [
       "20"
      ],
      "text/latex": [
       "20"
      ],
      "text/markdown": [
       "20"
      ],
      "text/plain": [
       "[1] 20"
      ]
     },
     "metadata": {},
     "output_type": "display_data"
    }
   ],
   "source": [
    "length(my_vector) #tells you length"
   ]
  },
  {
   "cell_type": "code",
   "execution_count": 5,
   "metadata": {},
   "outputs": [
    {
     "data": {
      "text/html": [
       "<ol class=list-inline>\n",
       "\t<li>4</li>\n",
       "\t<li>5</li>\n",
       "</ol>\n"
      ],
      "text/latex": [
       "\\begin{enumerate*}\n",
       "\\item 4\n",
       "\\item 5\n",
       "\\end{enumerate*}\n"
      ],
      "text/markdown": [
       "1. 4\n",
       "2. 5\n",
       "\n",
       "\n"
      ],
      "text/plain": [
       "[1] 4 5"
      ]
     },
     "metadata": {},
     "output_type": "display_data"
    }
   ],
   "source": [
    "dim(my_vector) <- c(4,5) #give my_vector dimensions\n",
    "dim(my_vector)"
   ]
  },
  {
   "cell_type": "code",
   "execution_count": 6,
   "metadata": {},
   "outputs": [
    {
     "data": {
      "text/html": [
       "<strong>$dim</strong> = <ol class=list-inline>\n",
       "\t<li>4</li>\n",
       "\t<li>5</li>\n",
       "</ol>\n"
      ],
      "text/latex": [
       "\\textbf{\\$dim} = \\begin{enumerate*}\n",
       "\\item 4\n",
       "\\item 5\n",
       "\\end{enumerate*}\n"
      ],
      "text/markdown": [
       "**$dim** = 1. 4\n",
       "2. 5\n",
       "\n",
       "\n"
      ],
      "text/plain": [
       "$dim\n",
       "[1] 4 5\n"
      ]
     },
     "metadata": {},
     "output_type": "display_data"
    }
   ],
   "source": [
    "attributes(my_vector) #shows you dimensions"
   ]
  },
  {
   "cell_type": "markdown",
   "metadata": {},
   "source": [
    "first number in dim is number of rows, second is number of columns"
   ]
  },
  {
   "cell_type": "code",
   "execution_count": 7,
   "metadata": {},
   "outputs": [
    {
     "data": {
      "text/html": [
       "<table>\n",
       "<tbody>\n",
       "\t<tr><td>1 </td><td>5 </td><td> 9</td><td>13</td><td>17</td></tr>\n",
       "\t<tr><td>2 </td><td>6 </td><td>10</td><td>14</td><td>18</td></tr>\n",
       "\t<tr><td>3 </td><td>7 </td><td>11</td><td>15</td><td>19</td></tr>\n",
       "\t<tr><td>4 </td><td>8 </td><td>12</td><td>16</td><td>20</td></tr>\n",
       "</tbody>\n",
       "</table>\n"
      ],
      "text/latex": [
       "\\begin{tabular}{lllll}\n",
       "\t 1  & 5  &  9 & 13 & 17\\\\\n",
       "\t 2  & 6  & 10 & 14 & 18\\\\\n",
       "\t 3  & 7  & 11 & 15 & 19\\\\\n",
       "\t 4  & 8  & 12 & 16 & 20\\\\\n",
       "\\end{tabular}\n"
      ],
      "text/markdown": [
       "\n",
       "| 1  | 5  |  9 | 13 | 17 | \n",
       "| 2  | 6  | 10 | 14 | 18 | \n",
       "| 3  | 7  | 11 | 15 | 19 | \n",
       "| 4  | 8  | 12 | 16 | 20 | \n",
       "\n",
       "\n"
      ],
      "text/plain": [
       "     [,1] [,2] [,3] [,4] [,5]\n",
       "[1,] 1    5     9   13   17  \n",
       "[2,] 2    6    10   14   18  \n",
       "[3,] 3    7    11   15   19  \n",
       "[4,] 4    8    12   16   20  "
      ]
     },
     "metadata": {},
     "output_type": "display_data"
    }
   ],
   "source": [
    "my_vector #it's now a matrix"
   ]
  },
  {
   "cell_type": "code",
   "execution_count": 8,
   "metadata": {},
   "outputs": [
    {
     "data": {
      "text/html": [
       "'matrix'"
      ],
      "text/latex": [
       "'matrix'"
      ],
      "text/markdown": [
       "'matrix'"
      ],
      "text/plain": [
       "[1] \"matrix\""
      ]
     },
     "metadata": {},
     "output_type": "display_data"
    }
   ],
   "source": [
    "class(my_vector) #confirms it is a matrix"
   ]
  },
  {
   "cell_type": "code",
   "execution_count": 9,
   "metadata": {
    "collapsed": true
   },
   "outputs": [],
   "source": [
    "my_matrix <- my_vector"
   ]
  },
  {
   "cell_type": "code",
   "execution_count": 11,
   "metadata": {
    "collapsed": true
   },
   "outputs": [],
   "source": [
    "my_matrix2 <- matrix(1:20, nrow = 4, ncol = 5) #creates same thing as my_matrix"
   ]
  },
  {
   "cell_type": "code",
   "execution_count": 12,
   "metadata": {},
   "outputs": [
    {
     "data": {
      "text/html": [
       "TRUE"
      ],
      "text/latex": [
       "TRUE"
      ],
      "text/markdown": [
       "TRUE"
      ],
      "text/plain": [
       "[1] TRUE"
      ]
     },
     "metadata": {},
     "output_type": "display_data"
    }
   ],
   "source": [
    "identical(my_matrix, my_matrix2)"
   ]
  },
  {
   "cell_type": "markdown",
   "metadata": {},
   "source": [
    "### Adding character values to a matrix - creating data frames"
   ]
  },
  {
   "cell_type": "code",
   "execution_count": 13,
   "metadata": {
    "collapsed": true
   },
   "outputs": [],
   "source": [
    "patients <- c(\"Bill\", \"Gina\", \"Kelly\", \"Sean\")"
   ]
  },
  {
   "cell_type": "code",
   "execution_count": 14,
   "metadata": {},
   "outputs": [
    {
     "data": {
      "text/html": [
       "<table>\n",
       "<thead><tr><th scope=col>patients</th><th scope=col></th><th scope=col></th><th scope=col></th><th scope=col></th><th scope=col></th></tr></thead>\n",
       "<tbody>\n",
       "\t<tr><td>Bill </td><td>1    </td><td>5    </td><td>9    </td><td>13   </td><td>17   </td></tr>\n",
       "\t<tr><td>Gina </td><td>2    </td><td>6    </td><td>10   </td><td>14   </td><td>18   </td></tr>\n",
       "\t<tr><td>Kelly</td><td>3    </td><td>7    </td><td>11   </td><td>15   </td><td>19   </td></tr>\n",
       "\t<tr><td>Sean </td><td>4    </td><td>8    </td><td>12   </td><td>16   </td><td>20   </td></tr>\n",
       "</tbody>\n",
       "</table>\n"
      ],
      "text/latex": [
       "\\begin{tabular}{llllll}\n",
       " patients &  &  &  &  & \\\\\n",
       "\\hline\n",
       "\t Bill  & 1     & 5     & 9     & 13    & 17   \\\\\n",
       "\t Gina  & 2     & 6     & 10    & 14    & 18   \\\\\n",
       "\t Kelly & 3     & 7     & 11    & 15    & 19   \\\\\n",
       "\t Sean  & 4     & 8     & 12    & 16    & 20   \\\\\n",
       "\\end{tabular}\n"
      ],
      "text/markdown": [
       "\n",
       "patients |  |  |  |  |  | \n",
       "|---|---|---|---|\n",
       "| Bill  | 1     | 5     | 9     | 13    | 17    | \n",
       "| Gina  | 2     | 6     | 10    | 14    | 18    | \n",
       "| Kelly | 3     | 7     | 11    | 15    | 19    | \n",
       "| Sean  | 4     | 8     | 12    | 16    | 20    | \n",
       "\n",
       "\n"
      ],
      "text/plain": [
       "     patients             \n",
       "[1,] Bill     1 5 9  13 17\n",
       "[2,] Gina     2 6 10 14 18\n",
       "[3,] Kelly    3 7 11 15 19\n",
       "[4,] Sean     4 8 12 16 20"
      ]
     },
     "metadata": {},
     "output_type": "display_data"
    }
   ],
   "source": [
    "cbind(patients, my_matrix) #adds patient row"
   ]
  },
  {
   "cell_type": "markdown",
   "metadata": {},
   "source": [
    "using cbind() creates a new matrix of all character strings, this is called *implicit coercion*\n"
   ]
  },
  {
   "cell_type": "code",
   "execution_count": 16,
   "metadata": {},
   "outputs": [
    {
     "data": {
      "text/html": [
       "<table>\n",
       "<thead><tr><th scope=col>patients</th><th scope=col>X1</th><th scope=col>X2</th><th scope=col>X3</th><th scope=col>X4</th><th scope=col>X5</th></tr></thead>\n",
       "<tbody>\n",
       "\t<tr><td>Bill </td><td>1    </td><td>5    </td><td> 9   </td><td>13   </td><td>17   </td></tr>\n",
       "\t<tr><td>Gina </td><td>2    </td><td>6    </td><td>10   </td><td>14   </td><td>18   </td></tr>\n",
       "\t<tr><td>Kelly</td><td>3    </td><td>7    </td><td>11   </td><td>15   </td><td>19   </td></tr>\n",
       "\t<tr><td>Sean </td><td>4    </td><td>8    </td><td>12   </td><td>16   </td><td>20   </td></tr>\n",
       "</tbody>\n",
       "</table>\n"
      ],
      "text/latex": [
       "\\begin{tabular}{r|llllll}\n",
       " patients & X1 & X2 & X3 & X4 & X5\\\\\n",
       "\\hline\n",
       "\t Bill  & 1     & 5     &  9    & 13    & 17   \\\\\n",
       "\t Gina  & 2     & 6     & 10    & 14    & 18   \\\\\n",
       "\t Kelly & 3     & 7     & 11    & 15    & 19   \\\\\n",
       "\t Sean  & 4     & 8     & 12    & 16    & 20   \\\\\n",
       "\\end{tabular}\n"
      ],
      "text/markdown": [
       "\n",
       "patients | X1 | X2 | X3 | X4 | X5 | \n",
       "|---|---|---|---|\n",
       "| Bill  | 1     | 5     |  9    | 13    | 17    | \n",
       "| Gina  | 2     | 6     | 10    | 14    | 18    | \n",
       "| Kelly | 3     | 7     | 11    | 15    | 19    | \n",
       "| Sean  | 4     | 8     | 12    | 16    | 20    | \n",
       "\n",
       "\n"
      ],
      "text/plain": [
       "  patients X1 X2 X3 X4 X5\n",
       "1 Bill     1  5   9 13 17\n",
       "2 Gina     2  6  10 14 18\n",
       "3 Kelly    3  7  11 15 19\n",
       "4 Sean     4  8  12 16 20"
      ]
     },
     "metadata": {},
     "output_type": "display_data"
    }
   ],
   "source": [
    "my_data <- data.frame(patients, my_matrix)\n",
    "my_data #allows you to store character string along with numbers"
   ]
  },
  {
   "cell_type": "code",
   "execution_count": 17,
   "metadata": {},
   "outputs": [
    {
     "data": {
      "text/html": [
       "'data.frame'"
      ],
      "text/latex": [
       "'data.frame'"
      ],
      "text/markdown": [
       "'data.frame'"
      ],
      "text/plain": [
       "[1] \"data.frame\""
      ]
     },
     "metadata": {},
     "output_type": "display_data"
    }
   ],
   "source": [
    "class(my_data)"
   ]
  },
  {
   "cell_type": "markdown",
   "metadata": {},
   "source": [
    "#### assigning names to the columns of a data frame"
   ]
  },
  {
   "cell_type": "code",
   "execution_count": 18,
   "metadata": {
    "collapsed": true
   },
   "outputs": [],
   "source": [
    "cnames <- c(\"patient\", \"age\", \"weight\", \"bp\", \"rating\", \"test\")"
   ]
  },
  {
   "cell_type": "code",
   "execution_count": 20,
   "metadata": {},
   "outputs": [
    {
     "data": {
      "text/html": [
       "<table>\n",
       "<thead><tr><th scope=col>patient</th><th scope=col>age</th><th scope=col>weight</th><th scope=col>bp</th><th scope=col>rating</th><th scope=col>test</th></tr></thead>\n",
       "<tbody>\n",
       "\t<tr><td>Bill </td><td>1    </td><td>5    </td><td> 9   </td><td>13   </td><td>17   </td></tr>\n",
       "\t<tr><td>Gina </td><td>2    </td><td>6    </td><td>10   </td><td>14   </td><td>18   </td></tr>\n",
       "\t<tr><td>Kelly</td><td>3    </td><td>7    </td><td>11   </td><td>15   </td><td>19   </td></tr>\n",
       "\t<tr><td>Sean </td><td>4    </td><td>8    </td><td>12   </td><td>16   </td><td>20   </td></tr>\n",
       "</tbody>\n",
       "</table>\n"
      ],
      "text/latex": [
       "\\begin{tabular}{r|llllll}\n",
       " patient & age & weight & bp & rating & test\\\\\n",
       "\\hline\n",
       "\t Bill  & 1     & 5     &  9    & 13    & 17   \\\\\n",
       "\t Gina  & 2     & 6     & 10    & 14    & 18   \\\\\n",
       "\t Kelly & 3     & 7     & 11    & 15    & 19   \\\\\n",
       "\t Sean  & 4     & 8     & 12    & 16    & 20   \\\\\n",
       "\\end{tabular}\n"
      ],
      "text/markdown": [
       "\n",
       "patient | age | weight | bp | rating | test | \n",
       "|---|---|---|---|\n",
       "| Bill  | 1     | 5     |  9    | 13    | 17    | \n",
       "| Gina  | 2     | 6     | 10    | 14    | 18    | \n",
       "| Kelly | 3     | 7     | 11    | 15    | 19    | \n",
       "| Sean  | 4     | 8     | 12    | 16    | 20    | \n",
       "\n",
       "\n"
      ],
      "text/plain": [
       "  patient age weight bp rating test\n",
       "1 Bill    1   5       9 13     17  \n",
       "2 Gina    2   6      10 14     18  \n",
       "3 Kelly   3   7      11 15     19  \n",
       "4 Sean    4   8      12 16     20  "
      ]
     },
     "metadata": {},
     "output_type": "display_data"
    }
   ],
   "source": [
    " colnames(my_data) <- cnames #sets cnames as the column names of my_data\n",
    "my_data"
   ]
  },
  {
   "cell_type": "markdown",
   "metadata": {},
   "source": [
    "## Unit 8: Logic"
   ]
  },
  {
   "cell_type": "markdown",
   "metadata": {},
   "source": [
    "two logical or boolean values: TRUE and FALSE"
   ]
  },
  {
   "cell_type": "code",
   "execution_count": 21,
   "metadata": {},
   "outputs": [
    {
     "data": {
      "text/html": [
       "TRUE"
      ],
      "text/latex": [
       "TRUE"
      ],
      "text/markdown": [
       "TRUE"
      ],
      "text/plain": [
       "[1] TRUE"
      ]
     },
     "metadata": {},
     "output_type": "display_data"
    }
   ],
   "source": [
    "TRUE == TRUE"
   ]
  },
  {
   "cell_type": "code",
   "execution_count": 22,
   "metadata": {},
   "outputs": [
    {
     "data": {
      "text/html": [
       "TRUE"
      ],
      "text/latex": [
       "TRUE"
      ],
      "text/markdown": [
       "TRUE"
      ],
      "text/plain": [
       "[1] TRUE"
      ]
     },
     "metadata": {},
     "output_type": "display_data"
    }
   ],
   "source": [
    "(FALSE == TRUE) == FALSE"
   ]
  },
  {
   "cell_type": "code",
   "execution_count": 23,
   "metadata": {},
   "outputs": [
    {
     "data": {
      "text/html": [
       "FALSE"
      ],
      "text/latex": [
       "FALSE"
      ],
      "text/markdown": [
       "FALSE"
      ],
      "text/plain": [
       "[1] FALSE"
      ]
     },
     "metadata": {},
     "output_type": "display_data"
    }
   ],
   "source": [
    "6 == 7"
   ]
  },
  {
   "cell_type": "markdown",
   "metadata": {},
   "source": [
    "    < less than, `<=` less than or equal to"
   ]
  },
  {
   "cell_type": "markdown",
   "metadata": {},
   "source": [
    "!= is not equals operator"
   ]
  },
  {
   "cell_type": "code",
   "execution_count": 24,
   "metadata": {},
   "outputs": [
    {
     "data": {
      "text/html": [
       "TRUE"
      ],
      "text/latex": [
       "TRUE"
      ],
      "text/markdown": [
       "TRUE"
      ],
      "text/plain": [
       "[1] TRUE"
      ]
     },
     "metadata": {},
     "output_type": "display_data"
    }
   ],
   "source": [
    "TRUE != FALSE"
   ]
  },
  {
   "cell_type": "code",
   "execution_count": 25,
   "metadata": {},
   "outputs": [
    {
     "data": {
      "text/html": [
       "FALSE"
      ],
      "text/latex": [
       "FALSE"
      ],
      "text/markdown": [
       "FALSE"
      ],
      "text/plain": [
       "[1] FALSE"
      ]
     },
     "metadata": {},
     "output_type": "display_data"
    }
   ],
   "source": [
    "!TRUE #evaluates to FALSE"
   ]
  },
  {
   "cell_type": "code",
   "execution_count": 26,
   "metadata": {},
   "outputs": [
    {
     "data": {
      "text/html": [
       "TRUE"
      ],
      "text/latex": [
       "TRUE"
      ],
      "text/markdown": [
       "TRUE"
      ],
      "text/plain": [
       "[1] TRUE"
      ]
     },
     "metadata": {},
     "output_type": "display_data"
    }
   ],
   "source": [
    "!5 == 7 #negate any expression with !"
   ]
  },
  {
   "cell_type": "markdown",
   "metadata": {},
   "source": [
    "### AND operator"
   ]
  },
  {
   "cell_type": "markdown",
   "metadata": {},
   "source": [
    "'&' operator requires both sides of the & to be true to evaluate to TRUE\n"
   ]
  },
  {
   "cell_type": "code",
   "execution_count": 27,
   "metadata": {},
   "outputs": [
    {
     "data": {
      "text/html": [
       "FALSE"
      ],
      "text/latex": [
       "FALSE"
      ],
      "text/markdown": [
       "FALSE"
      ],
      "text/plain": [
       "[1] FALSE"
      ]
     },
     "metadata": {},
     "output_type": "display_data"
    }
   ],
   "source": [
    "FALSE & TRUE"
   ]
  },
  {
   "cell_type": "markdown",
   "metadata": {},
   "source": [
    "'&&' only evaluates the first member of a vector"
   ]
  },
  {
   "cell_type": "code",
   "execution_count": 29,
   "metadata": {},
   "outputs": [
    {
     "data": {
      "text/html": [
       "<ol class=list-inline>\n",
       "\t<li>TRUE</li>\n",
       "\t<li>FALSE</li>\n",
       "\t<li>FALSE</li>\n",
       "</ol>\n"
      ],
      "text/latex": [
       "\\begin{enumerate*}\n",
       "\\item TRUE\n",
       "\\item FALSE\n",
       "\\item FALSE\n",
       "\\end{enumerate*}\n"
      ],
      "text/markdown": [
       "1. TRUE\n",
       "2. FALSE\n",
       "3. FALSE\n",
       "\n",
       "\n"
      ],
      "text/plain": [
       "[1]  TRUE FALSE FALSE"
      ]
     },
     "metadata": {},
     "output_type": "display_data"
    }
   ],
   "source": [
    "TRUE & c(TRUE, FALSE, FALSE)"
   ]
  },
  {
   "cell_type": "code",
   "execution_count": 31,
   "metadata": {},
   "outputs": [
    {
     "data": {
      "text/html": [
       "TRUE"
      ],
      "text/latex": [
       "TRUE"
      ],
      "text/markdown": [
       "TRUE"
      ],
      "text/plain": [
       "[1] TRUE"
      ]
     },
     "metadata": {},
     "output_type": "display_data"
    }
   ],
   "source": [
    "TRUE && c(TRUE, FALSE, FALSE) #left only evaluated with first object of right vector "
   ]
  },
  {
   "cell_type": "markdown",
   "metadata": {},
   "source": [
    "### OR operator"
   ]
  },
  {
   "cell_type": "markdown",
   "metadata": {},
   "source": [
    "'|' evaluates across an entire vector, '||' evaluates only the first member of a vector"
   ]
  },
  {
   "cell_type": "markdown",
   "metadata": {},
   "source": [
    "expression using OR will be TRUE of left and right are true, if neither are TRUE it is FALSE"
   ]
  },
  {
   "cell_type": "code",
   "execution_count": 32,
   "metadata": {},
   "outputs": [
    {
     "data": {
      "text/html": [
       "<ol class=list-inline>\n",
       "\t<li>TRUE</li>\n",
       "\t<li>TRUE</li>\n",
       "\t<li>TRUE</li>\n",
       "</ol>\n"
      ],
      "text/latex": [
       "\\begin{enumerate*}\n",
       "\\item TRUE\n",
       "\\item TRUE\n",
       "\\item TRUE\n",
       "\\end{enumerate*}\n"
      ],
      "text/markdown": [
       "1. TRUE\n",
       "2. TRUE\n",
       "3. TRUE\n",
       "\n",
       "\n"
      ],
      "text/plain": [
       "[1] TRUE TRUE TRUE"
      ]
     },
     "metadata": {},
     "output_type": "display_data"
    }
   ],
   "source": [
    "TRUE | c(TRUE, FALSE, FALSE)"
   ]
  },
  {
   "cell_type": "code",
   "execution_count": 33,
   "metadata": {},
   "outputs": [
    {
     "data": {
      "text/html": [
       "TRUE"
      ],
      "text/latex": [
       "TRUE"
      ],
      "text/markdown": [
       "TRUE"
      ],
      "text/plain": [
       "[1] TRUE"
      ]
     },
     "metadata": {},
     "output_type": "display_data"
    }
   ],
   "source": [
    "TRUE || c(TRUE, FALSE, FALSE)"
   ]
  },
  {
   "cell_type": "markdown",
   "metadata": {},
   "source": [
    "#### All AND operators are evaluated before OR operators"
   ]
  },
  {
   "cell_type": "code",
   "execution_count": 34,
   "metadata": {},
   "outputs": [
    {
     "data": {
      "text/html": [
       "TRUE"
      ],
      "text/latex": [
       "TRUE"
      ],
      "text/markdown": [
       "TRUE"
      ],
      "text/plain": [
       "[1] TRUE"
      ]
     },
     "metadata": {},
     "output_type": "display_data"
    }
   ],
   "source": [
    "5 > 8 || 6 != 8 && 4 > 3.9"
   ]
  },
  {
   "cell_type": "markdown",
   "metadata": {},
   "source": [
    "### Functions for dealing with logical operators"
   ]
  },
  {
   "cell_type": "code",
   "execution_count": 36,
   "metadata": {},
   "outputs": [
    {
     "data": {
      "text/html": [
       "TRUE"
      ],
      "text/latex": [
       "TRUE"
      ],
      "text/markdown": [
       "TRUE"
      ],
      "text/plain": [
       "[1] TRUE"
      ]
     },
     "metadata": {},
     "output_type": "display_data"
    }
   ],
   "source": [
    "isTRUE(6 > 4) #evaluates to TRUE or FALSE"
   ]
  },
  {
   "cell_type": "code",
   "execution_count": 37,
   "metadata": {},
   "outputs": [
    {
     "data": {
      "text/html": [
       "TRUE"
      ],
      "text/latex": [
       "TRUE"
      ],
      "text/markdown": [
       "TRUE"
      ],
      "text/plain": [
       "[1] TRUE"
      ]
     },
     "metadata": {},
     "output_type": "display_data"
    }
   ],
   "source": [
    "identical('twins', 'twins') #evaluates TRUE if two arguments are identical"
   ]
  },
  {
   "cell_type": "code",
   "execution_count": 39,
   "metadata": {},
   "outputs": [
    {
     "data": {
      "text/html": [
       "TRUE"
      ],
      "text/latex": [
       "TRUE"
      ],
      "text/markdown": [
       "TRUE"
      ],
      "text/plain": [
       "[1] TRUE"
      ]
     },
     "metadata": {},
     "output_type": "display_data"
    }
   ],
   "source": [
    "xor(5 == 6, !FALSE) #only evaluates to TRUE if one argument evaluates to TRUE and the other to FALSE"
   ]
  },
  {
   "cell_type": "code",
   "execution_count": 41,
   "metadata": {},
   "outputs": [
    {
     "data": {
      "text/html": [
       "<ol class=list-inline>\n",
       "\t<li>3</li>\n",
       "\t<li>1</li>\n",
       "\t<li>9</li>\n",
       "\t<li>7</li>\n",
       "\t<li>10</li>\n",
       "\t<li>5</li>\n",
       "\t<li>4</li>\n",
       "\t<li>6</li>\n",
       "\t<li>8</li>\n",
       "\t<li>2</li>\n",
       "</ol>\n"
      ],
      "text/latex": [
       "\\begin{enumerate*}\n",
       "\\item 3\n",
       "\\item 1\n",
       "\\item 9\n",
       "\\item 7\n",
       "\\item 10\n",
       "\\item 5\n",
       "\\item 4\n",
       "\\item 6\n",
       "\\item 8\n",
       "\\item 2\n",
       "\\end{enumerate*}\n"
      ],
      "text/markdown": [
       "1. 3\n",
       "2. 1\n",
       "3. 9\n",
       "4. 7\n",
       "5. 10\n",
       "6. 5\n",
       "7. 4\n",
       "8. 6\n",
       "9. 8\n",
       "10. 2\n",
       "\n",
       "\n"
      ],
      "text/plain": [
       " [1]  3  1  9  7 10  5  4  6  8  2"
      ]
     },
     "metadata": {},
     "output_type": "display_data"
    }
   ],
   "source": [
    "ints <- sample(10)\n",
    "ints"
   ]
  },
  {
   "cell_type": "code",
   "execution_count": 42,
   "metadata": {},
   "outputs": [
    {
     "data": {
      "text/html": [
       "<ol class=list-inline>\n",
       "\t<li>FALSE</li>\n",
       "\t<li>FALSE</li>\n",
       "\t<li>TRUE</li>\n",
       "\t<li>TRUE</li>\n",
       "\t<li>TRUE</li>\n",
       "\t<li>FALSE</li>\n",
       "\t<li>FALSE</li>\n",
       "\t<li>TRUE</li>\n",
       "\t<li>TRUE</li>\n",
       "\t<li>FALSE</li>\n",
       "</ol>\n"
      ],
      "text/latex": [
       "\\begin{enumerate*}\n",
       "\\item FALSE\n",
       "\\item FALSE\n",
       "\\item TRUE\n",
       "\\item TRUE\n",
       "\\item TRUE\n",
       "\\item FALSE\n",
       "\\item FALSE\n",
       "\\item TRUE\n",
       "\\item TRUE\n",
       "\\item FALSE\n",
       "\\end{enumerate*}\n"
      ],
      "text/markdown": [
       "1. FALSE\n",
       "2. FALSE\n",
       "3. TRUE\n",
       "4. TRUE\n",
       "5. TRUE\n",
       "6. FALSE\n",
       "7. FALSE\n",
       "8. TRUE\n",
       "9. TRUE\n",
       "10. FALSE\n",
       "\n",
       "\n"
      ],
      "text/plain": [
       " [1] FALSE FALSE  TRUE  TRUE  TRUE FALSE FALSE  TRUE  TRUE FALSE"
      ]
     },
     "metadata": {},
     "output_type": "display_data"
    }
   ],
   "source": [
    "ints > 5 #gives vector of each corresponding answer"
   ]
  },
  {
   "cell_type": "code",
   "execution_count": 43,
   "metadata": {},
   "outputs": [
    {
     "data": {
      "text/html": [
       "<ol class=list-inline>\n",
       "\t<li>3</li>\n",
       "\t<li>5</li>\n",
       "\t<li>9</li>\n",
       "</ol>\n"
      ],
      "text/latex": [
       "\\begin{enumerate*}\n",
       "\\item 3\n",
       "\\item 5\n",
       "\\item 9\n",
       "\\end{enumerate*}\n"
      ],
      "text/markdown": [
       "1. 3\n",
       "2. 5\n",
       "3. 9\n",
       "\n",
       "\n"
      ],
      "text/plain": [
       "[1] 3 5 9"
      ]
     },
     "metadata": {},
     "output_type": "display_data"
    }
   ],
   "source": [
    "which(ints > 7) #tells you which indices in 'ints' are greater than 7"
   ]
  },
  {
   "cell_type": "markdown",
   "metadata": {},
   "source": [
    "#### any() function will return TRUE if one or more of the elements in the logical vector are TRUE, all() will return TRUE if every element is TRUE"
   ]
  },
  {
   "cell_type": "code",
   "execution_count": 44,
   "metadata": {},
   "outputs": [
    {
     "data": {
      "text/html": [
       "FALSE"
      ],
      "text/latex": [
       "FALSE"
      ],
      "text/markdown": [
       "FALSE"
      ],
      "text/plain": [
       "[1] FALSE"
      ]
     },
     "metadata": {},
     "output_type": "display_data"
    }
   ],
   "source": [
    "any(ints < 0)"
   ]
  },
  {
   "cell_type": "code",
   "execution_count": 45,
   "metadata": {},
   "outputs": [
    {
     "data": {
      "text/html": [
       "TRUE"
      ],
      "text/latex": [
       "TRUE"
      ],
      "text/markdown": [
       "TRUE"
      ],
      "text/plain": [
       "[1] TRUE"
      ]
     },
     "metadata": {},
     "output_type": "display_data"
    }
   ],
   "source": [
    "all(ints > 0)"
   ]
  }
 ],
 "metadata": {
  "kernelspec": {
   "display_name": "R",
   "language": "R",
   "name": "ir"
  },
  "language_info": {
   "codemirror_mode": "r",
   "file_extension": ".r",
   "mimetype": "text/x-r-source",
   "name": "R",
   "pygments_lexer": "r",
   "version": "3.3.3"
  }
 },
 "nbformat": 4,
 "nbformat_minor": 2
}
